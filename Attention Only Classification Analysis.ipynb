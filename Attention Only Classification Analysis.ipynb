{
 "cells": [
  {
   "cell_type": "markdown",
   "metadata": {},
   "source": [
    "## Attention Only Classification Analysis"
   ]
  },
  {
   "cell_type": "code",
   "execution_count": 1,
   "metadata": {},
   "outputs": [
    {
     "name": "stderr",
     "output_type": "stream",
     "text": [
      "Using TensorFlow backend.\n"
     ]
    }
   ],
   "source": [
    "%load_ext autoreload\n",
    "%autoreload 2\n",
    "\n",
    "from __future__ import print_function\n",
    "import keras\n",
    "from keras import backend as K\n",
    "import tensorflow as tf\n",
    "\n",
    "import os\n",
    "import numpy as np\n",
    "import pandas as pd\n",
    "import scipy\n",
    "\n",
    "import Bio\n",
    "from Bio import SeqIO\n",
    "import Bio.motifs\n",
    "\n",
    "%matplotlib inline\n",
    "from matplotlib import pyplot as plt\n",
    "import seaborn as sns\n",
    "from sklearn import model_selection\n",
    "import sklearn\n",
    "\n",
    "from IPython.display import SVG\n",
    "from keras.utils.vis_utils import model_to_dot\n",
    "\n",
    "from signal_models import *\n",
    "from utility_functions import *\n",
    "\n",
    "sns.set_context('notebook')"
   ]
  },
  {
   "cell_type": "code",
   "execution_count": 2,
   "metadata": {
    "collapsed": true
   },
   "outputs": [],
   "source": [
    "working_directory = '/home/jtao/analysis/genomic_grammar_analysis/'"
   ]
  },
  {
   "cell_type": "markdown",
   "metadata": {},
   "source": [
    "## Read Data"
   ]
  },
  {
   "cell_type": "code",
   "execution_count": 6,
   "metadata": {},
   "outputs": [
    {
     "name": "stdout",
     "output_type": "stream",
     "text": [
      "*** kla-1h ***\n",
      "*** veh ***\n",
      "*** il4-24h ***\n"
     ]
    }
   ],
   "source": [
    "treatment_positive_fasta_dict = {}\n",
    "treatment_negative_fasta_dict = {}\n",
    "treatment_positive_seqArray_dict = {}\n",
    "treatment_positive_rc_seqArray_dict = {}\n",
    "treatment_negative_seqArray_dict = {}\n",
    "treatment_negative_rc_seqArray_dict = {}\n",
    "\n",
    "for ps in ['c57bl6_kla-1h_peaks.fasta', 'c57bl6_veh_peaks.fasta', 'c57bl6_il4-24h_peaks.fasta']:\n",
    "    treatment = ps.split('_')[1]\n",
    "    print('***',treatment, '***')\n",
    "    positive_seqRecords = list(SeqIO.parse(working_directory + '/peak_sequences/' + ps, 'fasta'))\n",
    "    negative_seqRecords = list(SeqIO.parse(working_directory + '/background_files/' + ps.replace('_peaks', '_background'), 'fasta'))[:len(positive_seqRecords)]\n",
    "    \n",
    "    positive_fasta_seq = [str(x.seq[:200]) for x in positive_seqRecords]\n",
    "    negative_fasta_seq = [str(x.seq[:200]) for x in negative_seqRecords]\n",
    "    \n",
    "    positive_rc_fasta_seq = [str(x[:200].reverse_complement().seq) for x in positive_seqRecords]\n",
    "    negative_rc_fasta_seq = [str(x[:200].reverse_complement().seq) for x in negative_seqRecords]\n",
    "    \n",
    "    positive_sequence_arrays = convert_sequences_to_array(positive_fasta_seq)\n",
    "    positive_rc_sequence_arrays = convert_sequences_to_array(positive_rc_fasta_seq)\n",
    "    \n",
    "    negative_sequence_arrays = convert_sequences_to_array(negative_fasta_seq)\n",
    "    negative_rc_sequence_arrays = convert_sequences_to_array(negative_rc_fasta_seq)\n",
    "    \n",
    "    treatment_positive_fasta_dict[treatment] = positive_fasta_seq\n",
    "    treatment_negative_fasta_dict[treatment] = negative_fasta_seq\n",
    "    treatment_positive_seqArray_dict[treatment] = positive_sequence_arrays\n",
    "    treatment_positive_rc_seqArray_dict[treatment] = positive_rc_sequence_arrays\n",
    "    treatment_negative_seqArray_dict[treatment] = negative_sequence_arrays\n",
    "    treatment_negative_rc_seqArray_dict[treatment] = negative_rc_sequence_arrays"
   ]
  },
  {
   "cell_type": "markdown",
   "metadata": {},
   "source": [
    "## Set Model Settings"
   ]
  },
  {
   "cell_type": "code",
   "execution_count": 245,
   "metadata": {
    "collapsed": true
   },
   "outputs": [],
   "source": [
    "### settings for attention model ###\n",
    "attention_num_motifs=150\n",
    "attention_motif_size=16\n",
    "adjacent_bp_pool_size=1\n",
    "attention_num_dense_neurons = 1\n",
    "attention_dropout_rate=0.1\n",
    "\n",
    "### settings for convolution model ###\n",
    "convolution_num_motifs=16\n",
    "convolution_motif_size=24\n",
    "num_dense_neurons=32\n",
    "convolution_dropout_rate=0.5\n",
    "\n",
    "largeConvolution_num_motifs = 54\n",
    "large_num_dense_neurons = 108"
   ]
  },
  {
   "cell_type": "code",
   "execution_count": 262,
   "metadata": {},
   "outputs": [
    {
     "name": "stdout",
     "output_type": "stream",
     "text": [
      "dotProductAttention_model 10603\n",
      "convolution_model 2146\n",
      "large_convolution_model 11342\n"
     ]
    }
   ],
   "source": [
    "dotProductAttention_model = get_dotProductAttention_model(200,\n",
    "    mode='classification',\n",
    "    num_motifs=attention_num_motifs, \n",
    "    motif_size=attention_motif_size,\n",
    "    adjacent_bp_pool_size=adjacent_bp_pool_size,\n",
    "    num_dense_neurons = attention_num_dense_neurons,\n",
    "    dropout_rate=attention_dropout_rate,\n",
    "    num_classes=2)\n",
    "print('dotProductAttention_model', dotProductAttention_model.count_params())\n",
    "\n",
    "convolution_model = get_convolution_model(200,\n",
    "    mode='classification',\n",
    "    num_motifs=convolution_num_motifs, \n",
    "    motif_size=convolution_motif_size,\n",
    "    num_dense_neurons=num_dense_neurons,\n",
    "    dropout_rate=convolution_dropout_rate,\n",
    "    num_classes=2)\n",
    "print('convolution_model', convolution_model.count_params())\n",
    "\n",
    "large_convolution_model = get_convolution_model(200,\n",
    "    mode='classification',\n",
    "    num_motifs=largeConvolution_num_motifs, \n",
    "    motif_size=convolution_motif_size,\n",
    "    num_dense_neurons=large_num_dense_neurons,\n",
    "    dropout_rate=convolution_dropout_rate,\n",
    "    num_classes=2)\n",
    "print('large_convolution_model', large_convolution_model.count_params())\n",
    "\n"
   ]
  },
  {
   "cell_type": "code",
   "execution_count": 263,
   "metadata": {},
   "outputs": [
    {
     "name": "stdout",
     "output_type": "stream",
     "text": [
      "__________________________________________________________________________________________________\n",
      "Layer (type)                    Output Shape         Param #     Connected to                     \n",
      "==================================================================================================\n",
      "input_fwd (InputLayer)          (None, 200, 4)       0                                            \n",
      "__________________________________________________________________________________________________\n",
      "convolution_layer (Conv1D)      (None, 200, 150)     9600        input_fwd[0][0]                  \n",
      "__________________________________________________________________________________________________\n",
      "sequence_pooling_layer (MaxPool (None, 200, 150)     0           convolution_layer[0][0]          \n",
      "__________________________________________________________________________________________________\n",
      "query_transformer (TimeDistribu (1, 200, 150)        150         sequence_pooling_layer[0][0]     \n",
      "__________________________________________________________________________________________________\n",
      "key_transformer (TimeDistribute (1, 200, 150)        150         sequence_pooling_layer[0][0]     \n",
      "__________________________________________________________________________________________________\n",
      "dot_product (Dot)               (1, 200, 200)        0           query_transformer[0][0]          \n",
      "                                                                 key_transformer[0][0]            \n",
      "__________________________________________________________________________________________________\n",
      "attention_softmax_layer (Softma (1, 200, 200)        0           dot_product[0][0]                \n",
      "__________________________________________________________________________________________________\n",
      "attention_dropout (Dropout)     (1, 200, 200)        0           attention_softmax_layer[0][0]    \n",
      "__________________________________________________________________________________________________\n",
      "value_transformer (TimeDistribu (1, 200, 150)        150         sequence_pooling_layer[0][0]     \n",
      "__________________________________________________________________________________________________\n",
      "attending_layer (Dot)           (1, 200, 150)        0           attention_dropout[0][0]          \n",
      "                                                                 value_transformer[0][0]          \n",
      "__________________________________________________________________________________________________\n",
      "dense_layer (TimeDistributed)   (1, 200, 1)          151         attending_layer[0][0]            \n",
      "__________________________________________________________________________________________________\n",
      "flatten (Flatten)               (1, 200)             0           dense_layer[0][0]                \n",
      "__________________________________________________________________________________________________\n",
      "predictions (Dense)             (1, 2)               402         flatten[0][0]                    \n",
      "==================================================================================================\n",
      "Total params: 10,603\n",
      "Trainable params: 10,603\n",
      "Non-trainable params: 0\n",
      "__________________________________________________________________________________________________\n"
     ]
    }
   ],
   "source": [
    "dotProductAttention_model.summary()"
   ]
  },
  {
   "cell_type": "code",
   "execution_count": 264,
   "metadata": {},
   "outputs": [
    {
     "data": {
      "text/plain": [
       "<matplotlib.axes._subplots.AxesSubplot at 0x7ef6ca063f60>"
      ]
     },
     "execution_count": 264,
     "metadata": {},
     "output_type": "execute_result"
    },
    {
     "data": {
      "image/png": "[encoded data removed]",
      "text/plain": [
       "<matplotlib.figure.Figure at 0x7ef6ca92c0f0>"
      ]
     },
     "metadata": {},
     "output_type": "display_data"
    }
   ],
   "source": [
    "sns.distplot(dotProductAttention_model.get_layer('dense_layer').get_weights()[0])"
   ]
  },
  {
   "cell_type": "markdown",
   "metadata": {},
   "source": [
    "## Train All Models for all Data Sets"
   ]
  },
  {
   "cell_type": "code",
   "execution_count": 234,
   "metadata": {
    "collapsed": true
   },
   "outputs": [],
   "source": [
    "condition_model_dict = {}"
   ]
  },
  {
   "cell_type": "code",
   "execution_count": 257,
   "metadata": {
    "scrolled": true
   },
   "outputs": [
    {
     "name": "stdout",
     "output_type": "stream",
     "text": [
      "iteration 1\n",
      "Training DotAttention kla-1h\n",
      "Train on 34841 samples, validate on 8711 samples\n",
      "Epoch 1/20\n",
      "16960/34841 [=============>................] - ETA: 13s - loss: 0.6825 - categorical_accuracy: 0.5466"
     ]
    },
    {
     "ename": "KeyboardInterrupt",
     "evalue": "",
     "output_type": "error",
     "traceback": [
      "\u001b[0;31m---------------------------------------------------------------------------\u001b[0m",
      "\u001b[0;31mKeyboardInterrupt\u001b[0m                         Traceback (most recent call last)",
      "\u001b[0;32m<ipython-input-257-d2d8d38bbd13>\u001b[0m in \u001b[0;36m<module>\u001b[0;34m()\u001b[0m\n\u001b[1;32m     51\u001b[0m                       \u001b[0mepochs\u001b[0m\u001b[0;34m=\u001b[0m\u001b[0mnum_epochs\u001b[0m\u001b[0;34m,\u001b[0m\u001b[0;34m\u001b[0m\u001b[0m\n\u001b[1;32m     52\u001b[0m                       \u001b[0mverbose\u001b[0m\u001b[0;34m=\u001b[0m\u001b[0;36m1\u001b[0m\u001b[0;34m,\u001b[0m\u001b[0;34m\u001b[0m\u001b[0m\n\u001b[0;32m---> 53\u001b[0;31m                       validation_data=([x_test], y_test))\n\u001b[0m\u001b[1;32m     54\u001b[0m \u001b[0;34m\u001b[0m\u001b[0m\n\u001b[1;32m     55\u001b[0m             \u001b[0mprobs\u001b[0m \u001b[0;34m=\u001b[0m \u001b[0mdotProductAttention_model\u001b[0m\u001b[0;34m.\u001b[0m\u001b[0mpredict\u001b[0m\u001b[0;34m(\u001b[0m\u001b[0;34m[\u001b[0m\u001b[0mx_test\u001b[0m\u001b[0;34m]\u001b[0m\u001b[0;34m)\u001b[0m\u001b[0;34m\u001b[0m\u001b[0m\n",
      "\u001b[0;32m/home/jenhan/anaconda3/lib/python3.6/site-packages/keras/engine/training.py\u001b[0m in \u001b[0;36mfit\u001b[0;34m(self, x, y, batch_size, epochs, verbose, callbacks, validation_split, validation_data, shuffle, class_weight, sample_weight, initial_epoch, steps_per_epoch, validation_steps, **kwargs)\u001b[0m\n\u001b[1;32m   1040\u001b[0m                                         \u001b[0minitial_epoch\u001b[0m\u001b[0;34m=\u001b[0m\u001b[0minitial_epoch\u001b[0m\u001b[0;34m,\u001b[0m\u001b[0;34m\u001b[0m\u001b[0m\n\u001b[1;32m   1041\u001b[0m                                         \u001b[0msteps_per_epoch\u001b[0m\u001b[0;34m=\u001b[0m\u001b[0msteps_per_epoch\u001b[0m\u001b[0;34m,\u001b[0m\u001b[0;34m\u001b[0m\u001b[0m\n\u001b[0;32m-> 1042\u001b[0;31m                                         validation_steps=validation_steps)\n\u001b[0m\u001b[1;32m   1043\u001b[0m \u001b[0;34m\u001b[0m\u001b[0m\n\u001b[1;32m   1044\u001b[0m     def evaluate(self, x=None, y=None,\n",
      "\u001b[0;32m/home/jenhan/anaconda3/lib/python3.6/site-packages/keras/engine/training_arrays.py\u001b[0m in \u001b[0;36mfit_loop\u001b[0;34m(model, f, ins, out_labels, batch_size, epochs, verbose, callbacks, val_f, val_ins, shuffle, callback_metrics, initial_epoch, steps_per_epoch, validation_steps)\u001b[0m\n\u001b[1;32m    197\u001b[0m                     \u001b[0mins_batch\u001b[0m\u001b[0;34m[\u001b[0m\u001b[0mi\u001b[0m\u001b[0;34m]\u001b[0m \u001b[0;34m=\u001b[0m \u001b[0mins_batch\u001b[0m\u001b[0;34m[\u001b[0m\u001b[0mi\u001b[0m\u001b[0;34m]\u001b[0m\u001b[0;34m.\u001b[0m\u001b[0mtoarray\u001b[0m\u001b[0;34m(\u001b[0m\u001b[0;34m)\u001b[0m\u001b[0;34m\u001b[0m\u001b[0m\n\u001b[1;32m    198\u001b[0m \u001b[0;34m\u001b[0m\u001b[0m\n\u001b[0;32m--> 199\u001b[0;31m                 \u001b[0mouts\u001b[0m \u001b[0;34m=\u001b[0m \u001b[0mf\u001b[0m\u001b[0;34m(\u001b[0m\u001b[0mins_batch\u001b[0m\u001b[0;34m)\u001b[0m\u001b[0;34m\u001b[0m\u001b[0m\n\u001b[0m\u001b[1;32m    200\u001b[0m                 \u001b[0;32mif\u001b[0m \u001b[0;32mnot\u001b[0m \u001b[0misinstance\u001b[0m\u001b[0;34m(\u001b[0m\u001b[0mouts\u001b[0m\u001b[0;34m,\u001b[0m \u001b[0mlist\u001b[0m\u001b[0;34m)\u001b[0m\u001b[0;34m:\u001b[0m\u001b[0;34m\u001b[0m\u001b[0m\n\u001b[1;32m    201\u001b[0m                     \u001b[0mouts\u001b[0m \u001b[0;34m=\u001b[0m \u001b[0;34m[\u001b[0m\u001b[0mouts\u001b[0m\u001b[0;34m]\u001b[0m\u001b[0;34m\u001b[0m\u001b[0m\n",
      "\u001b[0;32m/home/jenhan/anaconda3/lib/python3.6/site-packages/keras/backend/tensorflow_backend.py\u001b[0m in \u001b[0;36m__call__\u001b[0;34m(self, inputs)\u001b[0m\n\u001b[1;32m   2651\u001b[0m \u001b[0;34m\u001b[0m\u001b[0m\n\u001b[1;32m   2652\u001b[0m     \u001b[0;32mdef\u001b[0m \u001b[0m__call__\u001b[0m\u001b[0;34m(\u001b[0m\u001b[0mself\u001b[0m\u001b[0;34m,\u001b[0m \u001b[0minputs\u001b[0m\u001b[0;34m)\u001b[0m\u001b[0;34m:\u001b[0m\u001b[0;34m\u001b[0m\u001b[0m\n\u001b[0;32m-> 2653\u001b[0;31m         \u001b[0;32mif\u001b[0m \u001b[0mhasattr\u001b[0m\u001b[0;34m(\u001b[0m\u001b[0mget_session\u001b[0m\u001b[0;34m(\u001b[0m\u001b[0;34m)\u001b[0m\u001b[0;34m,\u001b[0m \u001b[0;34m'_make_callable_from_options'\u001b[0m\u001b[0;34m)\u001b[0m\u001b[0;34m:\u001b[0m\u001b[0;34m\u001b[0m\u001b[0m\n\u001b[0m\u001b[1;32m   2654\u001b[0m             \u001b[0;32mif\u001b[0m \u001b[0mpy_any\u001b[0m\u001b[0;34m(\u001b[0m\u001b[0mis_sparse\u001b[0m\u001b[0;34m(\u001b[0m\u001b[0mx\u001b[0m\u001b[0;34m)\u001b[0m \u001b[0;32mfor\u001b[0m \u001b[0mx\u001b[0m \u001b[0;32min\u001b[0m \u001b[0mself\u001b[0m\u001b[0;34m.\u001b[0m\u001b[0minputs\u001b[0m\u001b[0;34m)\u001b[0m\u001b[0;34m:\u001b[0m\u001b[0;34m\u001b[0m\u001b[0m\n\u001b[1;32m   2655\u001b[0m                 \u001b[0;32mif\u001b[0m \u001b[0mpy_any\u001b[0m\u001b[0;34m(\u001b[0m\u001b[0mis_tensor\u001b[0m\u001b[0;34m(\u001b[0m\u001b[0mx\u001b[0m\u001b[0;34m)\u001b[0m \u001b[0;32mfor\u001b[0m \u001b[0mx\u001b[0m \u001b[0;32min\u001b[0m \u001b[0minputs\u001b[0m\u001b[0;34m)\u001b[0m\u001b[0;34m:\u001b[0m\u001b[0;34m\u001b[0m\u001b[0m\n",
      "\u001b[0;32m/home/jenhan/anaconda3/lib/python3.6/site-packages/keras/backend/tensorflow_backend.py\u001b[0m in \u001b[0;36mget_session\u001b[0;34m()\u001b[0m\n\u001b[1;32m    188\u001b[0m             \u001b[0mcandidate_vars\u001b[0m \u001b[0;34m=\u001b[0m \u001b[0;34m[\u001b[0m\u001b[0;34m]\u001b[0m\u001b[0;34m\u001b[0m\u001b[0m\n\u001b[1;32m    189\u001b[0m             \u001b[0;32mfor\u001b[0m \u001b[0mv\u001b[0m \u001b[0;32min\u001b[0m \u001b[0mvariables\u001b[0m\u001b[0;34m:\u001b[0m\u001b[0;34m\u001b[0m\u001b[0m\n\u001b[0;32m--> 190\u001b[0;31m                 \u001b[0;32mif\u001b[0m \u001b[0;32mnot\u001b[0m \u001b[0mgetattr\u001b[0m\u001b[0;34m(\u001b[0m\u001b[0mv\u001b[0m\u001b[0;34m,\u001b[0m \u001b[0;34m'_keras_initialized'\u001b[0m\u001b[0;34m,\u001b[0m \u001b[0;32mFalse\u001b[0m\u001b[0;34m)\u001b[0m\u001b[0;34m:\u001b[0m\u001b[0;34m\u001b[0m\u001b[0m\n\u001b[0m\u001b[1;32m    191\u001b[0m                     \u001b[0mcandidate_vars\u001b[0m\u001b[0;34m.\u001b[0m\u001b[0mappend\u001b[0m\u001b[0;34m(\u001b[0m\u001b[0mv\u001b[0m\u001b[0;34m)\u001b[0m\u001b[0;34m\u001b[0m\u001b[0m\n\u001b[1;32m    192\u001b[0m             \u001b[0;32mif\u001b[0m \u001b[0mcandidate_vars\u001b[0m\u001b[0;34m:\u001b[0m\u001b[0;34m\u001b[0m\u001b[0m\n",
      "\u001b[0;31mKeyboardInterrupt\u001b[0m: "
     ]
    }
   ],
   "source": [
    "num_epochs = 20\n",
    "num_iterations = 3\n",
    "all_rocs = []\n",
    "all_accuracies = []\n",
    "all_precisions = []\n",
    "all_treatments = []\n",
    "model_types = []\n",
    "parameter_counts = []\n",
    "iteration_list = []\n",
    "\n",
    "train_dotAttention = True\n",
    "train_convolution = False\n",
    "train_large_convolution = False\n",
    "for iteration in range(1,num_iterations + 1):\n",
    "    print('iteration', iteration)\n",
    "    for treatment in treatment_positive_fasta_dict:\n",
    "        positive_sequence_arrays = treatment_positive_seqArray_dict[treatment] \n",
    "        positive_rc_sequence_arrays = treatment_positive_rc_seqArray_dict[treatment]\n",
    "        negative_sequence_arrays = treatment_negative_seqArray_dict[treatment]\n",
    "        negative_rc_sequence_arrays = treatment_negative_rc_seqArray_dict[treatment]\n",
    "\n",
    "        sequence_arrays = np.concatenate([positive_sequence_arrays, negative_sequence_arrays])\n",
    "        sequence_rc_arrays = np.concatenate([positive_rc_sequence_arrays, negative_rc_sequence_arrays])\n",
    "        labels = [1 for x in positive_sequence_arrays] + [0 for x in negative_sequence_arrays]\n",
    "        labels = np.array(labels)\n",
    "\n",
    "        x_train, x_test, x_rc_train, x_rc_test, y_train, y_test = model_selection.train_test_split(\n",
    "            sequence_arrays, \n",
    "            sequence_rc_arrays, \n",
    "            labels, \n",
    "            test_size=0.2)\n",
    "\n",
    "        num_classes = 2\n",
    "        y_train = keras.utils.to_categorical(y_train, num_classes)\n",
    "        y_test = keras.utils.to_categorical(y_test, num_classes)\n",
    "\n",
    "        ### dot product attention model ###\n",
    "        if train_dotAttention:\n",
    "            print('Training DotAttention', treatment)\n",
    "            dotProductAttention_model = get_dotProductAttention_model(200,\n",
    "                mode='classification',\n",
    "                num_motifs=attention_num_motifs, \n",
    "                motif_size=attention_motif_size,\n",
    "                adjacent_bp_pool_size=adjacent_bp_pool_size,\n",
    "                num_dense_neurons = attention_num_dense_neurons,  \n",
    "                dropout_rate=attention_dropout_rate,\n",
    "                num_classes=2)\n",
    "\n",
    "            dotProductAttention_model.fit([x_train], y_train,\n",
    "                      batch_size=64,\n",
    "                      epochs=num_epochs,\n",
    "                      verbose=1,\n",
    "                      validation_data=([x_test], y_test))\n",
    "\n",
    "            probs = dotProductAttention_model.predict([x_test])\n",
    "            test_predictions = [0 if x[0] > x[1] else 1 for x in probs]\n",
    "            roc = sklearn.metrics.roc_auc_score([y[1] for y in y_test], probs[:,1], )\n",
    "            precision = sklearn.metrics.precision_score([y[1] for y in y_test], [0 if x[0] > x[1] else 1 for x in probs])\n",
    "            acc = sklearn.metrics.accuracy_score([y[1] for y in y_test], test_predictions)\n",
    "            param_count = dotProductAttention_model.count_params()\n",
    "\n",
    "            all_rocs.append(roc)\n",
    "            all_accuracies.append(acc)\n",
    "            all_precisions.append(precision)\n",
    "            all_treatments.append(treatment)\n",
    "            model_types.append('DotAttention')\n",
    "            parameter_counts.append(param_count)\n",
    "            iteration_list.append(iteration)\n",
    "            condition_model_dict['DotAttention_'+treatment] = dotProductAttention_model\n",
    "            print(model_types[-1],treatment ,'|Acc:', all_accuracies[-1], \n",
    "                '|Prec:',all_precisions[-1], \n",
    "                '|ROC:',all_rocs[-1])\n",
    "        ### ###\n",
    "\n",
    "        ### large convolution model ###\n",
    "        if train_large_convolution:\n",
    "            print('Training Large Convolution', treatment)\n",
    "            large_convolution_model = get_convolution_model(200,\n",
    "                mode='classification',\n",
    "                num_motifs=largeConvolution_num_motifs, \n",
    "                motif_size=convolution_motif_size,\n",
    "                num_dense_neurons=large_num_dense_neurons,\n",
    "                dropout_rate=convolution_dropout_rate,\n",
    "                num_classes=2)\n",
    "            large_convolution_model.fit([x_train, x_rc_train], y_train,\n",
    "                      batch_size=64,\n",
    "                      epochs=num_epochs,\n",
    "                      verbose=1,\n",
    "                      validation_data=([x_test, x_rc_test], y_test))\n",
    "\n",
    "            probs = large_convolution_model.predict([x_test, x_rc_test])\n",
    "            test_predictions = [0 if x[0] > x[1] else 1 for x in probs]\n",
    "            roc = sklearn.metrics.roc_auc_score([y[1] for y in y_test], probs[:,1], )\n",
    "            precision = sklearn.metrics.precision_score([y[1] for y in y_test], [0 if x[0] > x[1] else 1 for x in probs])\n",
    "            acc = sklearn.metrics.accuracy_score([y[1] for y in y_test], test_predictions)\n",
    "            param_count = convolution_model.count_params()\n",
    "\n",
    "            all_rocs.append(roc)\n",
    "            all_accuracies.append(acc)\n",
    "            all_precisions.append(precision)\n",
    "            all_treatments.append(treatment)\n",
    "            model_types.append('LargeConvolution')\n",
    "            parameter_counts.append(param_count)\n",
    "            iteration_list.append(iteration)\n",
    "            condition_model_dict['LargeConvolution_'+treatment] = large_convolution_model\n",
    "            print(model_types[-1],treatment , '|Acc:', all_accuracies[-1], \n",
    "                '|Prec:',all_precisions[-1], \n",
    "                '|ROC:',all_rocs[-1])\n",
    "        ### convolution model ###\n",
    "        if train_convolution:\n",
    "            print('Training Convolution', treatment)\n",
    "            convolution_model = get_convolution_model(200,\n",
    "                mode='classification',\n",
    "                num_motifs=convolution_num_motifs, \n",
    "                motif_size=convolution_motif_size,\n",
    "                num_dense_neurons=num_dense_neurons,\n",
    "                dropout_rate=convolution_dropout_rate,\n",
    "                num_classes=2)\n",
    "            convolution_model.fit([x_train, x_rc_train], y_train,\n",
    "                      batch_size=64,\n",
    "                      epochs=num_epochs,\n",
    "                      verbose=1,\n",
    "                      validation_data=([x_test, x_rc_test], y_test))\n",
    "\n",
    "            probs = convolution_model.predict([x_test, x_rc_test])\n",
    "            test_predictions = [0 if x[0] > x[1] else 1 for x in probs]\n",
    "            roc = sklearn.metrics.roc_auc_score([y[1] for y in y_test], probs[:,1], )\n",
    "            precision = sklearn.metrics.precision_score([y[1] for y in y_test], [0 if x[0] > x[1] else 1 for x in probs])\n",
    "            acc = sklearn.metrics.accuracy_score([y[1] for y in y_test], test_predictions)\n",
    "            param_count = convolution_model.count_params()\n",
    "\n",
    "            all_rocs.append(roc)\n",
    "            all_accuracies.append(acc)\n",
    "            all_precisions.append(precision)\n",
    "            all_treatments.append(treatment)\n",
    "            model_types.append('Convolution')\n",
    "            parameter_counts.append(param_count)\n",
    "            iteration_list.append(iteration)\n",
    "            condition_model_dict['Convolution_'+treatment] = convolution_model\n",
    "            print(model_types[-1],treatment ,'|Acc:', all_accuracies[-1], \n",
    "                '|Prec:',all_precisions[-1], \n",
    "                '|ROC:',all_rocs[-1])\n",
    "            break"
   ]
  },
  {
   "cell_type": "code",
   "execution_count": 236,
   "metadata": {
    "collapsed": true
   },
   "outputs": [],
   "source": [
    "performance_frame = pd.DataFrame({'Model Type': model_types, \n",
    "                                  'Treatment':all_treatments,\n",
    "                                  'Accuracy':all_accuracies, \n",
    "                                  'aucROC':all_rocs,\n",
    "                                  'Precision':all_precisions})"
   ]
  },
  {
   "cell_type": "code",
   "execution_count": null,
   "metadata": {
    "collapsed": true
   },
   "outputs": [],
   "source": [
    "performance_frame.to_csv(working_directory + '/figures/performance.tsv', sep='\\t')"
   ]
  },
  {
   "cell_type": "code",
   "execution_count": 9,
   "metadata": {
    "collapsed": true
   },
   "outputs": [],
   "source": [
    "performance_frame= pd.read_csv(working_directory + '/figures/performance.tsv', sep='\\t', index_col=0)"
   ]
  },
  {
   "cell_type": "code",
   "execution_count": 237,
   "metadata": {},
   "outputs": [
    {
     "data": {
      "text/html": [
       "<div>\n",
       "<style>\n",
       "    .dataframe thead tr:only-child th {\n",
       "        text-align: right;\n",
       "    }\n",
       "\n",
       "    .dataframe thead th {\n",
       "        text-align: left;\n",
       "    }\n",
       "\n",
       "    .dataframe tbody tr th {\n",
       "        vertical-align: top;\n",
       "    }\n",
       "</style>\n",
       "<table border=\"1\" class=\"dataframe\">\n",
       "  <thead>\n",
       "    <tr style=\"text-align: right;\">\n",
       "      <th></th>\n",
       "      <th>Accuracy</th>\n",
       "      <th>Model Type</th>\n",
       "      <th>Precision</th>\n",
       "      <th>Treatment</th>\n",
       "      <th>aucROC</th>\n",
       "    </tr>\n",
       "  </thead>\n",
       "  <tbody>\n",
       "    <tr>\n",
       "      <th>0</th>\n",
       "      <td>0.859947</td>\n",
       "      <td>DotAttention</td>\n",
       "      <td>0.842243</td>\n",
       "      <td>kla-1h</td>\n",
       "      <td>0.933381</td>\n",
       "    </tr>\n",
       "    <tr>\n",
       "      <th>1</th>\n",
       "      <td>0.833888</td>\n",
       "      <td>LargeConvolution</td>\n",
       "      <td>0.803758</td>\n",
       "      <td>kla-1h</td>\n",
       "      <td>0.917734</td>\n",
       "    </tr>\n",
       "    <tr>\n",
       "      <th>2</th>\n",
       "      <td>0.862758</td>\n",
       "      <td>DotAttention</td>\n",
       "      <td>0.846037</td>\n",
       "      <td>veh</td>\n",
       "      <td>0.938461</td>\n",
       "    </tr>\n",
       "    <tr>\n",
       "      <th>3</th>\n",
       "      <td>0.850872</td>\n",
       "      <td>LargeConvolution</td>\n",
       "      <td>0.860397</td>\n",
       "      <td>veh</td>\n",
       "      <td>0.923912</td>\n",
       "    </tr>\n",
       "    <tr>\n",
       "      <th>4</th>\n",
       "      <td>0.862470</td>\n",
       "      <td>DotAttention</td>\n",
       "      <td>0.838409</td>\n",
       "      <td>il4-24h</td>\n",
       "      <td>0.936821</td>\n",
       "    </tr>\n",
       "    <tr>\n",
       "      <th>5</th>\n",
       "      <td>0.839946</td>\n",
       "      <td>LargeConvolution</td>\n",
       "      <td>0.794835</td>\n",
       "      <td>il4-24h</td>\n",
       "      <td>0.927299</td>\n",
       "    </tr>\n",
       "    <tr>\n",
       "      <th>6</th>\n",
       "      <td>0.852830</td>\n",
       "      <td>DotAttention</td>\n",
       "      <td>0.846606</td>\n",
       "      <td>kla-1h</td>\n",
       "      <td>0.930927</td>\n",
       "    </tr>\n",
       "    <tr>\n",
       "      <th>7</th>\n",
       "      <td>0.838365</td>\n",
       "      <td>LargeConvolution</td>\n",
       "      <td>0.836772</td>\n",
       "      <td>kla-1h</td>\n",
       "      <td>0.915872</td>\n",
       "    </tr>\n",
       "    <tr>\n",
       "      <th>8</th>\n",
       "      <td>0.840491</td>\n",
       "      <td>DotAttention</td>\n",
       "      <td>0.786244</td>\n",
       "      <td>veh</td>\n",
       "      <td>0.933142</td>\n",
       "    </tr>\n",
       "    <tr>\n",
       "      <th>9</th>\n",
       "      <td>0.835261</td>\n",
       "      <td>LargeConvolution</td>\n",
       "      <td>0.798970</td>\n",
       "      <td>veh</td>\n",
       "      <td>0.921635</td>\n",
       "    </tr>\n",
       "    <tr>\n",
       "      <th>10</th>\n",
       "      <td>0.853968</td>\n",
       "      <td>DotAttention</td>\n",
       "      <td>0.881592</td>\n",
       "      <td>il4-24h</td>\n",
       "      <td>0.934895</td>\n",
       "    </tr>\n",
       "    <tr>\n",
       "      <th>11</th>\n",
       "      <td>0.845018</td>\n",
       "      <td>LargeConvolution</td>\n",
       "      <td>0.869289</td>\n",
       "      <td>il4-24h</td>\n",
       "      <td>0.926370</td>\n",
       "    </tr>\n",
       "    <tr>\n",
       "      <th>12</th>\n",
       "      <td>0.864998</td>\n",
       "      <td>DotAttention</td>\n",
       "      <td>0.883234</td>\n",
       "      <td>kla-1h</td>\n",
       "      <td>0.939699</td>\n",
       "    </tr>\n",
       "    <tr>\n",
       "      <th>13</th>\n",
       "      <td>0.845942</td>\n",
       "      <td>LargeConvolution</td>\n",
       "      <td>0.836748</td>\n",
       "      <td>kla-1h</td>\n",
       "      <td>0.916997</td>\n",
       "    </tr>\n",
       "    <tr>\n",
       "      <th>14</th>\n",
       "      <td>0.848732</td>\n",
       "      <td>DotAttention</td>\n",
       "      <td>0.812355</td>\n",
       "      <td>veh</td>\n",
       "      <td>0.929951</td>\n",
       "    </tr>\n",
       "    <tr>\n",
       "      <th>15</th>\n",
       "      <td>0.851743</td>\n",
       "      <td>LargeConvolution</td>\n",
       "      <td>0.830790</td>\n",
       "      <td>veh</td>\n",
       "      <td>0.927015</td>\n",
       "    </tr>\n",
       "    <tr>\n",
       "      <th>16</th>\n",
       "      <td>0.865453</td>\n",
       "      <td>DotAttention</td>\n",
       "      <td>0.855001</td>\n",
       "      <td>il4-24h</td>\n",
       "      <td>0.937815</td>\n",
       "    </tr>\n",
       "    <tr>\n",
       "      <th>17</th>\n",
       "      <td>0.856280</td>\n",
       "      <td>LargeConvolution</td>\n",
       "      <td>0.844598</td>\n",
       "      <td>il4-24h</td>\n",
       "      <td>0.930630</td>\n",
       "    </tr>\n",
       "  </tbody>\n",
       "</table>\n",
       "</div>"
      ],
      "text/plain": [
       "    Accuracy        Model Type  Precision Treatment    aucROC\n",
       "0   0.859947      DotAttention   0.842243    kla-1h  0.933381\n",
       "1   0.833888  LargeConvolution   0.803758    kla-1h  0.917734\n",
       "2   0.862758      DotAttention   0.846037       veh  0.938461\n",
       "3   0.850872  LargeConvolution   0.860397       veh  0.923912\n",
       "4   0.862470      DotAttention   0.838409   il4-24h  0.936821\n",
       "5   0.839946  LargeConvolution   0.794835   il4-24h  0.927299\n",
       "6   0.852830      DotAttention   0.846606    kla-1h  0.930927\n",
       "7   0.838365  LargeConvolution   0.836772    kla-1h  0.915872\n",
       "8   0.840491      DotAttention   0.786244       veh  0.933142\n",
       "9   0.835261  LargeConvolution   0.798970       veh  0.921635\n",
       "10  0.853968      DotAttention   0.881592   il4-24h  0.934895\n",
       "11  0.845018  LargeConvolution   0.869289   il4-24h  0.926370\n",
       "12  0.864998      DotAttention   0.883234    kla-1h  0.939699\n",
       "13  0.845942  LargeConvolution   0.836748    kla-1h  0.916997\n",
       "14  0.848732      DotAttention   0.812355       veh  0.929951\n",
       "15  0.851743  LargeConvolution   0.830790       veh  0.927015\n",
       "16  0.865453      DotAttention   0.855001   il4-24h  0.937815\n",
       "17  0.856280  LargeConvolution   0.844598   il4-24h  0.930630"
      ]
     },
     "execution_count": 237,
     "metadata": {},
     "output_type": "execute_result"
    }
   ],
   "source": [
    "performance_frame"
   ]
  },
  {
   "cell_type": "code",
   "execution_count": 238,
   "metadata": {},
   "outputs": [
    {
     "name": "stdout",
     "output_type": "stream",
     "text": [
      "--------\n",
      "DotAttention veh |Accuracy: 0.851 |Precision: 0.815 |auROC: 0.934\n",
      "Convolution veh |Accuracy: nan |Precision: nan |auROC: nan\n",
      "LargeConvolution veh |Accuracy: 0.846 |Precision: 0.83 |auROC: 0.924\n",
      "--------\n",
      "DotAttention kla-1h |Accuracy: 0.859 |Precision: 0.857 |auROC: 0.935\n",
      "Convolution kla-1h |Accuracy: nan |Precision: nan |auROC: nan\n",
      "LargeConvolution kla-1h |Accuracy: 0.839 |Precision: 0.826 |auROC: 0.917\n",
      "--------\n",
      "DotAttention il4-24h |Accuracy: 0.861 |Precision: 0.858 |auROC: 0.937\n",
      "Convolution il4-24h |Accuracy: nan |Precision: nan |auROC: nan\n",
      "LargeConvolution il4-24h |Accuracy: 0.847 |Precision: 0.836 |auROC: 0.928\n"
     ]
    }
   ],
   "source": [
    "for treatment in ['veh', 'kla-1h', 'il4-24h']:\n",
    "    print('--------')\n",
    "    for model in ['DotAttention', 'Convolution', 'LargeConvolution']:\n",
    "        current = performance_frame[(performance_frame['Model Type'] == model) &\n",
    "                          (performance_frame['Treatment'] == treatment)]\n",
    "        mean_acc = np.round(current['Accuracy'].mean(),3)\n",
    "        mean_prec = np.round(current['Precision'].mean(),3)\n",
    "        mean_roc = np.round(current['aucROC'].mean(), 3)\n",
    "        print(model, treatment, '|Accuracy:', mean_acc, '|Precision:', mean_prec, '|auROC:', mean_roc)"
   ]
  },
  {
   "cell_type": "code",
   "execution_count": 11,
   "metadata": {},
   "outputs": [
    {
     "data": {
      "image/png": "[encoded data removed]",
      "text/plain": [
       "<matplotlib.figure.Figure at 0x7efe2118c5f8>"
      ]
     },
     "metadata": {},
     "output_type": "display_data"
    }
   ],
   "source": [
    "with sns.axes_style('whitegrid'):\n",
    "    sns.factorplot(data = performance_frame,\n",
    "        x = 'Treatment', \n",
    "        y = 'Accuracy',\n",
    "        hue = 'Model Type',\n",
    "        kind = 'bar'\n",
    "        )\n",
    "    plt.ylim(0,1)"
   ]
  },
  {
   "cell_type": "code",
   "execution_count": 12,
   "metadata": {},
   "outputs": [
    {
     "data": {
      "image/png": "[encoded data removed]",
      "text/plain": [
       "<matplotlib.figure.Figure at 0x7efdcc45ec50>"
      ]
     },
     "metadata": {},
     "output_type": "display_data"
    }
   ],
   "source": [
    "with sns.axes_style('whitegrid'):\n",
    "    sns.factorplot(data = performance_frame,\n",
    "        x = 'Treatment', \n",
    "        y = 'Precision',\n",
    "        hue = 'Model Type',\n",
    "        kind = 'bar'\n",
    "        )\n",
    "    plt.ylim(0,1)"
   ]
  },
  {
   "cell_type": "code",
   "execution_count": 13,
   "metadata": {},
   "outputs": [
    {
     "data": {
      "image/png": "[encoded data removed]",
      "text/plain": [
       "<matplotlib.figure.Figure at 0x7efdcc492940>"
      ]
     },
     "metadata": {},
     "output_type": "display_data"
    }
   ],
   "source": [
    "with sns.axes_style('whitegrid'):\n",
    "    sns.factorplot(data = performance_frame,\n",
    "        x = 'Treatment', \n",
    "        y = 'aucROC',\n",
    "        hue = 'Model Type',\n",
    "        kind = 'bar'\n",
    "        )\n",
    "    plt.ylim(0,1)"
   ]
  },
  {
   "cell_type": "markdown",
   "metadata": {},
   "source": [
    "## Serialize Models"
   ]
  },
  {
   "cell_type": "code",
   "execution_count": 177,
   "metadata": {},
   "outputs": [
    {
     "name": "stdout",
     "output_type": "stream",
     "text": [
      "DotAttention_kla-1h\n",
      "LargeConvolution_kla-1h\n",
      "DotAttention_veh\n",
      "LargeConvolution_veh\n",
      "DotAttention_il4-24h\n",
      "LargeConvolution_il4-24h\n"
     ]
    }
   ],
   "source": [
    "if len(condition_model_dict) > 0:\n",
    "    if not os.path.isdir(working_directory + '/models_classification'):\n",
    "        os.mkdir(working_directory + '/models_classification')\n",
    "#     else:\n",
    "#         for f in os.listdir(working_directory + '/models_classification'):\n",
    "#             os.remove(working_directory + '/models_classification/' + f)\n",
    "    for treatment_modelType in condition_model_dict.keys():\n",
    "        print(treatment_modelType)\n",
    "        current_model = condition_model_dict[treatment_modelType]\n",
    "        current_model.save_weights(working_directory + '/models_classification/' + treatment_modelType + '_weights.h5',\n",
    "                          )"
   ]
  },
  {
   "cell_type": "markdown",
   "metadata": {},
   "source": [
    "## Read in Models"
   ]
  },
  {
   "cell_type": "code",
   "execution_count": 5,
   "metadata": {
    "scrolled": false
   },
   "outputs": [
    {
     "name": "stdout",
     "output_type": "stream",
     "text": [
      "LargeConvolution_kla-1h_weights.h5\n",
      "10152\n",
      "LargeConvolution_il4-24h_weights.h5\n",
      "10152\n",
      "DotAttention_kla-1h_weights.h5\n",
      "10810\n",
      "Convolution_kla-1h_weights.h5\n",
      "2162\n",
      "LargeConvolution_veh_weights.h5\n",
      "10152\n",
      "DotAttention_veh_weights.h5\n",
      "10810\n",
      "Convolution_il4-24h_weights.h5\n",
      "2162\n",
      "DotAttention_il4-24h_weights.h5\n",
      "10810\n",
      "Convolution_veh_weights.h5\n",
      "2162\n"
     ]
    }
   ],
   "source": [
    "condition_model_dict = {}\n",
    "for f in os.listdir(working_directory + '/models_classification/'):\n",
    "    treatment_modelType = f.replace('_weights.h5','')\n",
    "    modelType = treatment_modelType.split('_')[0]\n",
    "    print(f)\n",
    "    if modelType == 'DotAttention':\n",
    "        current_model = get_dotProductAttention_model(200,\n",
    "            mode='classification',\n",
    "            num_motifs=attention_num_motifs, \n",
    "            motif_size=attention_motif_size,\n",
    "            adjacent_bp_pool_size=adjacent_bp_pool_size,\n",
    "            num_dense_neurons = attention_num_dense_neurons,\n",
    "            dropout_rate=attention_dropout_rate,\n",
    "            num_classes=2)\n",
    "    elif modelType == 'Convolution':\n",
    "        current_model = get_convolution_model(200,\n",
    "            mode='classification',\n",
    "            num_motifs=convolution_num_motifs, \n",
    "            motif_size=convolution_motif_size,\n",
    "            num_dense_neurons=num_dense_neurons,\n",
    "            dropout_rate=convolution_dropout_rate,\n",
    "            num_classes=2)\n",
    "    elif modelType == 'LargeConvolution':\n",
    "        current_model = get_convolution_model(200,\n",
    "            mode='classification',\n",
    "            num_motifs= largeConvolution_num_motifs, \n",
    "            motif_size=convolution_motif_size,\n",
    "            num_dense_neurons=large_num_dense_neurons,\n",
    "            dropout_rate=convolution_dropout_rate,\n",
    "            num_classes=2)\n",
    "    current_model.load_weights(working_directory + '/models_classification/' + treatment_modelType + '_weights.h5')\n",
    "    condition_model_dict[treatment_modelType] = current_model\n",
    "    print(current_model.count_params())"
   ]
  },
  {
   "cell_type": "markdown",
   "metadata": {},
   "source": [
    "## Grid Search for Dot Product Attention Model"
   ]
  },
  {
   "cell_type": "code",
   "execution_count": 140,
   "metadata": {
    "scrolled": true
   },
   "outputs": [
    {
     "name": "stdout",
     "output_type": "stream",
     "text": [
      "kla-1h num dense 1 num motifs 100 pool size 1 dropout rate 0.1 param count 7303\n",
      "Train on 34841 samples, validate on 8711 samples\n",
      "Epoch 1/20\n",
      "34841/34841 [==============================] - 37s 1ms/step - loss: 0.6790 - categorical_accuracy: 0.5486 - val_loss: 0.6358 - val_categorical_accuracy: 0.6470\n",
      "Epoch 2/20\n",
      "34841/34841 [==============================] - 33s 951us/step - loss: 0.6177 - categorical_accuracy: 0.6591 - val_loss: 0.5897 - val_categorical_accuracy: 0.6883\n",
      "Epoch 3/20\n",
      "34841/34841 [==============================] - 33s 955us/step - loss: 0.5682 - categorical_accuracy: 0.7078 - val_loss: 0.5491 - val_categorical_accuracy: 0.7245\n",
      "Epoch 4/20\n",
      "34841/34841 [==============================] - 33s 951us/step - loss: 0.5409 - categorical_accuracy: 0.7272 - val_loss: 0.5293 - val_categorical_accuracy: 0.7365\n",
      "Epoch 5/20\n",
      "34841/34841 [==============================] - 33s 954us/step - loss: 0.5165 - categorical_accuracy: 0.7457 - val_loss: 0.5127 - val_categorical_accuracy: 0.7481\n",
      "Epoch 6/20\n",
      "34841/34841 [==============================] - 33s 952us/step - loss: 0.4962 - categorical_accuracy: 0.7601 - val_loss: 0.5733 - val_categorical_accuracy: 0.7003\n",
      "Epoch 7/20\n",
      "34841/34841 [==============================] - 33s 954us/step - loss: 0.4731 - categorical_accuracy: 0.7758 - val_loss: 0.4708 - val_categorical_accuracy: 0.7782\n",
      "Epoch 8/20\n",
      "34841/34841 [==============================] - 33s 952us/step - loss: 0.4497 - categorical_accuracy: 0.7882 - val_loss: 0.4481 - val_categorical_accuracy: 0.7958\n",
      "Epoch 9/20\n",
      "34841/34841 [==============================] - 33s 952us/step - loss: 0.4359 - categorical_accuracy: 0.7973 - val_loss: 0.4395 - val_categorical_accuracy: 0.7954\n",
      "Epoch 10/20\n",
      "34841/34841 [==============================] - 33s 954us/step - loss: 0.4222 - categorical_accuracy: 0.8104 - val_loss: 0.4250 - val_categorical_accuracy: 0.8069\n",
      "Epoch 11/20\n",
      "34841/34841 [==============================] - 33s 953us/step - loss: 0.4064 - categorical_accuracy: 0.8165 - val_loss: 0.4491 - val_categorical_accuracy: 0.7889\n",
      "Epoch 12/20\n",
      "34841/34841 [==============================] - 33s 950us/step - loss: 0.3856 - categorical_accuracy: 0.8278 - val_loss: 0.4230 - val_categorical_accuracy: 0.8130\n",
      "Epoch 13/20\n",
      "34841/34841 [==============================] - 33s 954us/step - loss: 0.3719 - categorical_accuracy: 0.8361 - val_loss: 0.3875 - val_categorical_accuracy: 0.8304\n",
      "Epoch 14/20\n",
      "34841/34841 [==============================] - 33s 958us/step - loss: 0.3528 - categorical_accuracy: 0.8456 - val_loss: 0.3802 - val_categorical_accuracy: 0.8342\n",
      "Epoch 15/20\n",
      "34841/34841 [==============================] - 33s 953us/step - loss: 0.3437 - categorical_accuracy: 0.8492 - val_loss: 0.3677 - val_categorical_accuracy: 0.8423\n",
      "Epoch 16/20\n",
      "34841/34841 [==============================] - 33s 953us/step - loss: 0.3304 - categorical_accuracy: 0.8598 - val_loss: 0.3777 - val_categorical_accuracy: 0.8361\n",
      "Epoch 17/20\n",
      "34841/34841 [==============================] - 33s 955us/step - loss: 0.3203 - categorical_accuracy: 0.8648 - val_loss: 0.3555 - val_categorical_accuracy: 0.8466\n",
      "Epoch 18/20\n",
      "34841/34841 [==============================] - 33s 952us/step - loss: 0.3138 - categorical_accuracy: 0.8670 - val_loss: 0.3514 - val_categorical_accuracy: 0.8505\n",
      "Epoch 19/20\n",
      "34841/34841 [==============================] - 33s 952us/step - loss: 0.3035 - categorical_accuracy: 0.8704 - val_loss: 0.3489 - val_categorical_accuracy: 0.8508\n",
      "Epoch 20/20\n",
      "34841/34841 [==============================] - 33s 953us/step - loss: 0.2988 - categorical_accuracy: 0.8745 - val_loss: 0.3416 - val_categorical_accuracy: 0.8518\n",
      "kla-1h num dense 1 num motifs 150 pool size 1 dropout rate 0.1 param count 10753\n",
      "Train on 34841 samples, validate on 8711 samples\n",
      "Epoch 1/20\n",
      "34841/34841 [==============================] - 38s 1ms/step - loss: 0.6871 - categorical_accuracy: 0.5340 - val_loss: 0.6730 - val_categorical_accuracy: 0.5516\n",
      "Epoch 2/20\n",
      "34841/34841 [==============================] - 34s 979us/step - loss: 0.6177 - categorical_accuracy: 0.6572 - val_loss: 0.5826 - val_categorical_accuracy: 0.6989\n",
      "Epoch 3/20\n",
      "34841/34841 [==============================] - 34s 976us/step - loss: 0.5679 - categorical_accuracy: 0.7072 - val_loss: 0.5548 - val_categorical_accuracy: 0.7181\n",
      "Epoch 4/20\n",
      "34841/34841 [==============================] - 34s 978us/step - loss: 0.5355 - categorical_accuracy: 0.7325 - val_loss: 0.5219 - val_categorical_accuracy: 0.7433\n",
      "Epoch 5/20\n",
      "34841/34841 [==============================] - 34s 976us/step - loss: 0.4984 - categorical_accuracy: 0.7562 - val_loss: 0.4805 - val_categorical_accuracy: 0.7698\n",
      "Epoch 6/20\n",
      "34841/34841 [==============================] - 34s 978us/step - loss: 0.4622 - categorical_accuracy: 0.7824 - val_loss: 0.4659 - val_categorical_accuracy: 0.7819\n",
      "Epoch 7/20\n",
      "34841/34841 [==============================] - 34s 976us/step - loss: 0.4229 - categorical_accuracy: 0.8066 - val_loss: 0.4070 - val_categorical_accuracy: 0.8159\n",
      "Epoch 8/20\n",
      "34841/34841 [==============================] - 34s 978us/step - loss: 0.3889 - categorical_accuracy: 0.8247 - val_loss: 0.3960 - val_categorical_accuracy: 0.8210\n",
      "Epoch 9/20\n",
      "34841/34841 [==============================] - 34s 976us/step - loss: 0.3671 - categorical_accuracy: 0.8377 - val_loss: 0.3834 - val_categorical_accuracy: 0.8300\n",
      "Epoch 10/20\n",
      "34841/34841 [==============================] - 34s 974us/step - loss: 0.3484 - categorical_accuracy: 0.8471 - val_loss: 0.3640 - val_categorical_accuracy: 0.8393\n",
      "Epoch 11/20\n",
      "34841/34841 [==============================] - 34s 977us/step - loss: 0.3361 - categorical_accuracy: 0.8556 - val_loss: 0.3830 - val_categorical_accuracy: 0.8257\n",
      "Epoch 12/20\n",
      "34841/34841 [==============================] - 34s 977us/step - loss: 0.3221 - categorical_accuracy: 0.8618 - val_loss: 0.3543 - val_categorical_accuracy: 0.8519\n",
      "Epoch 13/20\n",
      "34841/34841 [==============================] - 34s 980us/step - loss: 0.3083 - categorical_accuracy: 0.8692 - val_loss: 0.3485 - val_categorical_accuracy: 0.8462\n",
      "Epoch 14/20\n",
      "34841/34841 [==============================] - 34s 975us/step - loss: 0.2956 - categorical_accuracy: 0.8770 - val_loss: 0.3955 - val_categorical_accuracy: 0.8371\n",
      "Epoch 15/20\n",
      "34841/34841 [==============================] - 34s 977us/step - loss: 0.2910 - categorical_accuracy: 0.8781 - val_loss: 0.3299 - val_categorical_accuracy: 0.8606\n",
      "Epoch 16/20\n",
      "34841/34841 [==============================] - 34s 976us/step - loss: 0.2750 - categorical_accuracy: 0.8869 - val_loss: 0.3540 - val_categorical_accuracy: 0.8442\n",
      "Epoch 17/20\n",
      "34841/34841 [==============================] - 34s 976us/step - loss: 0.2732 - categorical_accuracy: 0.8861 - val_loss: 0.3654 - val_categorical_accuracy: 0.8372\n",
      "Epoch 18/20\n",
      "34841/34841 [==============================] - 34s 974us/step - loss: 0.2682 - categorical_accuracy: 0.8894 - val_loss: 0.3375 - val_categorical_accuracy: 0.8528\n",
      "Epoch 19/20\n",
      "34841/34841 [==============================] - 34s 975us/step - loss: 0.2558 - categorical_accuracy: 0.8957 - val_loss: 0.3299 - val_categorical_accuracy: 0.8594\n",
      "Epoch 20/20\n",
      "34841/34841 [==============================] - 34s 976us/step - loss: 0.2495 - categorical_accuracy: 0.8991 - val_loss: 0.3305 - val_categorical_accuracy: 0.8608\n",
      "kla-1h num dense 1 num motifs 200 pool size 1 dropout rate 0.1 param count 14203\n",
      "Train on 34841 samples, validate on 8711 samples\n",
      "Epoch 1/20\n",
      "34841/34841 [==============================] - 38s 1ms/step - loss: 0.6779 - categorical_accuracy: 0.5581 - val_loss: 0.6467 - val_categorical_accuracy: 0.6079\n",
      "Epoch 2/20\n",
      "34841/34841 [==============================] - 34s 975us/step - loss: 0.5894 - categorical_accuracy: 0.6856 - val_loss: 0.5611 - val_categorical_accuracy: 0.7086\n",
      "Epoch 3/20\n",
      "34841/34841 [==============================] - 34s 975us/step - loss: 0.5427 - categorical_accuracy: 0.7236 - val_loss: 0.5537 - val_categorical_accuracy: 0.7120\n",
      "Epoch 4/20\n",
      "34841/34841 [==============================] - 34s 975us/step - loss: 0.4960 - categorical_accuracy: 0.7577 - val_loss: 0.4766 - val_categorical_accuracy: 0.7744\n",
      "Epoch 5/20\n",
      "34841/34841 [==============================] - 34s 976us/step - loss: 0.4463 - categorical_accuracy: 0.7932 - val_loss: 0.4332 - val_categorical_accuracy: 0.8023\n",
      "Epoch 6/20\n"
     ]
    },
    {
     "name": "stdout",
     "output_type": "stream",
     "text": [
      "34841/34841 [==============================] - 34s 975us/step - loss: 0.4060 - categorical_accuracy: 0.8168 - val_loss: 0.4102 - val_categorical_accuracy: 0.8131\n",
      "Epoch 7/20\n",
      "34841/34841 [==============================] - 34s 973us/step - loss: 0.3752 - categorical_accuracy: 0.8344 - val_loss: 0.3885 - val_categorical_accuracy: 0.8261\n",
      "Epoch 8/20\n",
      "34841/34841 [==============================] - 34s 975us/step - loss: 0.3562 - categorical_accuracy: 0.8434 - val_loss: 0.3776 - val_categorical_accuracy: 0.8330\n",
      "Epoch 9/20\n",
      "34841/34841 [==============================] - 34s 974us/step - loss: 0.3352 - categorical_accuracy: 0.8557 - val_loss: 0.3686 - val_categorical_accuracy: 0.8399\n",
      "Epoch 10/20\n",
      "34841/34841 [==============================] - 34s 974us/step - loss: 0.3157 - categorical_accuracy: 0.8635 - val_loss: 0.3533 - val_categorical_accuracy: 0.8500\n",
      "Epoch 11/20\n",
      "34841/34841 [==============================] - 34s 975us/step - loss: 0.3013 - categorical_accuracy: 0.8711 - val_loss: 0.3568 - val_categorical_accuracy: 0.8521\n",
      "Epoch 12/20\n",
      "34841/34841 [==============================] - 34s 975us/step - loss: 0.2902 - categorical_accuracy: 0.8778 - val_loss: 0.3646 - val_categorical_accuracy: 0.8388\n",
      "Epoch 13/20\n",
      "34841/34841 [==============================] - 34s 975us/step - loss: 0.2811 - categorical_accuracy: 0.8823 - val_loss: 0.4145 - val_categorical_accuracy: 0.8123\n",
      "Epoch 14/20\n",
      "34841/34841 [==============================] - 34s 976us/step - loss: 0.2700 - categorical_accuracy: 0.8876 - val_loss: 0.3441 - val_categorical_accuracy: 0.8505\n",
      "Epoch 15/20\n",
      "34841/34841 [==============================] - 34s 975us/step - loss: 0.2565 - categorical_accuracy: 0.8945 - val_loss: 0.3539 - val_categorical_accuracy: 0.8524\n",
      "Epoch 16/20\n",
      "34841/34841 [==============================] - 34s 974us/step - loss: 0.2482 - categorical_accuracy: 0.8985 - val_loss: 0.3552 - val_categorical_accuracy: 0.8492\n",
      "Epoch 17/20\n",
      "34841/34841 [==============================] - 34s 974us/step - loss: 0.2416 - categorical_accuracy: 0.9010 - val_loss: 0.3531 - val_categorical_accuracy: 0.8563\n",
      "Epoch 18/20\n",
      "34841/34841 [==============================] - 34s 975us/step - loss: 0.2336 - categorical_accuracy: 0.9056 - val_loss: 0.3586 - val_categorical_accuracy: 0.8493\n",
      "Epoch 19/20\n",
      "34841/34841 [==============================] - 34s 976us/step - loss: 0.2239 - categorical_accuracy: 0.9093 - val_loss: 0.4384 - val_categorical_accuracy: 0.8152\n",
      "Epoch 20/20\n",
      "34841/34841 [==============================] - 34s 977us/step - loss: 0.2202 - categorical_accuracy: 0.9113 - val_loss: 0.3674 - val_categorical_accuracy: 0.8552\n",
      "kla-1h num dense 4 num motifs 100 pool size 1 dropout rate 0.1 param count 8806\n",
      "Train on 34841 samples, validate on 8711 samples\n",
      "Epoch 1/20\n",
      "34841/34841 [==============================] - 38s 1ms/step - loss: 0.6741 - categorical_accuracy: 0.5570 - val_loss: 0.6925 - val_categorical_accuracy: 0.5546\n",
      "Epoch 2/20\n",
      "34841/34841 [==============================] - 34s 962us/step - loss: 0.5956 - categorical_accuracy: 0.6827 - val_loss: 0.5643 - val_categorical_accuracy: 0.7068\n",
      "Epoch 3/20\n",
      "34841/34841 [==============================] - 34s 964us/step - loss: 0.5496 - categorical_accuracy: 0.7203 - val_loss: 0.5372 - val_categorical_accuracy: 0.7330\n",
      "Epoch 4/20\n",
      "34841/34841 [==============================] - 33s 960us/step - loss: 0.5216 - categorical_accuracy: 0.7385 - val_loss: 0.5088 - val_categorical_accuracy: 0.7510\n",
      "Epoch 5/20\n",
      "34841/34841 [==============================] - 33s 961us/step - loss: 0.4923 - categorical_accuracy: 0.7607 - val_loss: 0.4782 - val_categorical_accuracy: 0.7705\n",
      "Epoch 6/20\n",
      "34841/34841 [==============================] - 33s 960us/step - loss: 0.4641 - categorical_accuracy: 0.7812 - val_loss: 0.4536 - val_categorical_accuracy: 0.7899\n",
      "Epoch 7/20\n",
      "34841/34841 [==============================] - 33s 960us/step - loss: 0.4350 - categorical_accuracy: 0.7993 - val_loss: 0.4564 - val_categorical_accuracy: 0.7883\n",
      "Epoch 8/20\n",
      "34841/34841 [==============================] - 33s 960us/step - loss: 0.4151 - categorical_accuracy: 0.8096 - val_loss: 0.4209 - val_categorical_accuracy: 0.8109\n",
      "Epoch 9/20\n",
      "34841/34841 [==============================] - 34s 963us/step - loss: 0.3917 - categorical_accuracy: 0.8247 - val_loss: 0.4173 - val_categorical_accuracy: 0.8110\n",
      "Epoch 10/20\n",
      "34841/34841 [==============================] - 34s 962us/step - loss: 0.3759 - categorical_accuracy: 0.8329 - val_loss: 0.3883 - val_categorical_accuracy: 0.8281\n",
      "Epoch 11/20\n",
      "34841/34841 [==============================] - 34s 962us/step - loss: 0.3544 - categorical_accuracy: 0.8455 - val_loss: 0.4266 - val_categorical_accuracy: 0.8058\n",
      "Epoch 12/20\n",
      "34841/34841 [==============================] - 34s 963us/step - loss: 0.3395 - categorical_accuracy: 0.8537 - val_loss: 0.3641 - val_categorical_accuracy: 0.8411\n",
      "Epoch 13/20\n",
      "34841/34841 [==============================] - 33s 960us/step - loss: 0.3295 - categorical_accuracy: 0.8577 - val_loss: 0.3657 - val_categorical_accuracy: 0.8380\n",
      "Epoch 14/20\n",
      "34841/34841 [==============================] - 33s 961us/step - loss: 0.3186 - categorical_accuracy: 0.8635 - val_loss: 0.3560 - val_categorical_accuracy: 0.8464\n",
      "Epoch 15/20\n",
      "34841/34841 [==============================] - 33s 961us/step - loss: 0.3023 - categorical_accuracy: 0.8721 - val_loss: 0.3880 - val_categorical_accuracy: 0.8277\n",
      "Epoch 16/20\n",
      "34841/34841 [==============================] - 34s 962us/step - loss: 0.3029 - categorical_accuracy: 0.8718 - val_loss: 0.3456 - val_categorical_accuracy: 0.8527\n",
      "Epoch 17/20\n",
      "34841/34841 [==============================] - 34s 962us/step - loss: 0.2890 - categorical_accuracy: 0.8790 - val_loss: 0.3870 - val_categorical_accuracy: 0.8295\n",
      "Epoch 18/20\n",
      "34841/34841 [==============================] - 34s 962us/step - loss: 0.2823 - categorical_accuracy: 0.8824 - val_loss: 0.3495 - val_categorical_accuracy: 0.8536\n",
      "Epoch 19/20\n",
      "34841/34841 [==============================] - 33s 960us/step - loss: 0.2764 - categorical_accuracy: 0.8840 - val_loss: 0.3683 - val_categorical_accuracy: 0.8457\n",
      "Epoch 20/20\n",
      "34841/34841 [==============================] - 34s 963us/step - loss: 0.2757 - categorical_accuracy: 0.8860 - val_loss: 0.3373 - val_categorical_accuracy: 0.8601\n",
      "kla-1h num dense 4 num motifs 150 pool size 1 dropout rate 0.1 param count 12406\n",
      "Train on 34841 samples, validate on 8711 samples\n",
      "Epoch 1/20\n",
      "34841/34841 [==============================] - 38s 1ms/step - loss: 0.6693 - categorical_accuracy: 0.5686 - val_loss: 0.6286 - val_categorical_accuracy: 0.6488\n",
      "Epoch 2/20\n",
      "34841/34841 [==============================] - 34s 970us/step - loss: 0.5874 - categorical_accuracy: 0.6890 - val_loss: 0.5542 - val_categorical_accuracy: 0.7228\n",
      "Epoch 3/20\n",
      "34841/34841 [==============================] - 34s 973us/step - loss: 0.5400 - categorical_accuracy: 0.7284 - val_loss: 0.5305 - val_categorical_accuracy: 0.7352\n",
      "Epoch 4/20\n",
      "34841/34841 [==============================] - 34s 968us/step - loss: 0.5007 - categorical_accuracy: 0.7595 - val_loss: 0.5333 - val_categorical_accuracy: 0.7307\n",
      "Epoch 5/20\n",
      "34841/34841 [==============================] - 34s 970us/step - loss: 0.4656 - categorical_accuracy: 0.7802 - val_loss: 0.4542 - val_categorical_accuracy: 0.7899\n",
      "Epoch 6/20\n",
      "34841/34841 [==============================] - 34s 972us/step - loss: 0.4334 - categorical_accuracy: 0.8046 - val_loss: 0.4366 - val_categorical_accuracy: 0.8004\n",
      "Epoch 7/20\n",
      "34841/34841 [==============================] - 34s 971us/step - loss: 0.4061 - categorical_accuracy: 0.8161 - val_loss: 0.4447 - val_categorical_accuracy: 0.7968\n",
      "Epoch 8/20\n",
      "34841/34841 [==============================] - 34s 970us/step - loss: 0.3881 - categorical_accuracy: 0.8286 - val_loss: 0.4053 - val_categorical_accuracy: 0.8170\n",
      "Epoch 9/20\n",
      "34841/34841 [==============================] - 34s 970us/step - loss: 0.3618 - categorical_accuracy: 0.8439 - val_loss: 0.3774 - val_categorical_accuracy: 0.8296\n",
      "Epoch 10/20\n",
      "34841/34841 [==============================] - 34s 969us/step - loss: 0.3456 - categorical_accuracy: 0.8502 - val_loss: 0.3678 - val_categorical_accuracy: 0.8352\n",
      "Epoch 11/20\n",
      "34841/34841 [==============================] - 34s 969us/step - loss: 0.3261 - categorical_accuracy: 0.8615 - val_loss: 0.3770 - val_categorical_accuracy: 0.8332\n"
     ]
    },
    {
     "name": "stdout",
     "output_type": "stream",
     "text": [
      "Epoch 12/20\n",
      "34841/34841 [==============================] - 34s 969us/step - loss: 0.3172 - categorical_accuracy: 0.8650 - val_loss: 0.3720 - val_categorical_accuracy: 0.8362\n",
      "Epoch 13/20\n",
      "34841/34841 [==============================] - 34s 968us/step - loss: 0.2977 - categorical_accuracy: 0.8750 - val_loss: 0.3495 - val_categorical_accuracy: 0.8463\n",
      "Epoch 14/20\n",
      "34841/34841 [==============================] - 34s 971us/step - loss: 0.2905 - categorical_accuracy: 0.8790 - val_loss: 0.3514 - val_categorical_accuracy: 0.8467\n",
      "Epoch 15/20\n",
      "34841/34841 [==============================] - 34s 969us/step - loss: 0.2857 - categorical_accuracy: 0.8821 - val_loss: 0.3393 - val_categorical_accuracy: 0.8554\n",
      "Epoch 16/20\n",
      "34841/34841 [==============================] - 34s 968us/step - loss: 0.2690 - categorical_accuracy: 0.8895 - val_loss: 0.3736 - val_categorical_accuracy: 0.8338\n",
      "Epoch 17/20\n",
      "34841/34841 [==============================] - 34s 972us/step - loss: 0.2607 - categorical_accuracy: 0.8932 - val_loss: 0.3344 - val_categorical_accuracy: 0.8554\n",
      "Epoch 18/20\n",
      "34841/34841 [==============================] - 34s 969us/step - loss: 0.2586 - categorical_accuracy: 0.8934 - val_loss: 0.3506 - val_categorical_accuracy: 0.8518\n",
      "Epoch 19/20\n",
      "34841/34841 [==============================] - 34s 969us/step - loss: 0.2481 - categorical_accuracy: 0.8988 - val_loss: 0.3441 - val_categorical_accuracy: 0.8548\n",
      "Epoch 20/20\n",
      "34841/34841 [==============================] - 34s 971us/step - loss: 0.2379 - categorical_accuracy: 0.9034 - val_loss: 0.3385 - val_categorical_accuracy: 0.8559\n",
      "kla-1h num dense 4 num motifs 200 pool size 1 dropout rate 0.1 param count 16006\n",
      "Train on 34841 samples, validate on 8711 samples\n",
      "Epoch 1/20\n",
      "34841/34841 [==============================] - 38s 1ms/step - loss: 0.6725 - categorical_accuracy: 0.5622 - val_loss: 0.6270 - val_categorical_accuracy: 0.6432\n",
      "Epoch 2/20\n",
      "34841/34841 [==============================] - 34s 980us/step - loss: 0.5871 - categorical_accuracy: 0.6859 - val_loss: 0.6030 - val_categorical_accuracy: 0.6656\n",
      "Epoch 3/20\n",
      "34841/34841 [==============================] - 34s 980us/step - loss: 0.5296 - categorical_accuracy: 0.7371 - val_loss: 0.5044 - val_categorical_accuracy: 0.7570\n",
      "Epoch 4/20\n",
      "34841/34841 [==============================] - 34s 982us/step - loss: 0.4855 - categorical_accuracy: 0.7667 - val_loss: 0.4763 - val_categorical_accuracy: 0.7742\n",
      "Epoch 5/20\n",
      "34841/34841 [==============================] - 34s 981us/step - loss: 0.4412 - categorical_accuracy: 0.7953 - val_loss: 0.4354 - val_categorical_accuracy: 0.8034\n",
      "Epoch 6/20\n",
      "34841/34841 [==============================] - 34s 980us/step - loss: 0.4006 - categorical_accuracy: 0.8200 - val_loss: 0.3932 - val_categorical_accuracy: 0.8265\n",
      "Epoch 7/20\n",
      "34841/34841 [==============================] - 34s 980us/step - loss: 0.3655 - categorical_accuracy: 0.8418 - val_loss: 0.4034 - val_categorical_accuracy: 0.8203\n",
      "Epoch 8/20\n",
      "34841/34841 [==============================] - 34s 980us/step - loss: 0.3388 - categorical_accuracy: 0.8544 - val_loss: 0.3454 - val_categorical_accuracy: 0.8462\n",
      "Epoch 9/20\n",
      "34841/34841 [==============================] - 34s 980us/step - loss: 0.3151 - categorical_accuracy: 0.8650 - val_loss: 0.3433 - val_categorical_accuracy: 0.8501\n",
      "Epoch 10/20\n",
      "34841/34841 [==============================] - 34s 979us/step - loss: 0.2976 - categorical_accuracy: 0.8747 - val_loss: 0.3309 - val_categorical_accuracy: 0.8582\n",
      "Epoch 11/20\n",
      "34841/34841 [==============================] - 34s 979us/step - loss: 0.2819 - categorical_accuracy: 0.8826 - val_loss: 0.3704 - val_categorical_accuracy: 0.8423\n",
      "Epoch 12/20\n",
      "34841/34841 [==============================] - 34s 981us/step - loss: 0.2709 - categorical_accuracy: 0.8888 - val_loss: 0.3237 - val_categorical_accuracy: 0.8616\n",
      "Epoch 13/20\n",
      "34841/34841 [==============================] - 34s 979us/step - loss: 0.2633 - categorical_accuracy: 0.8913 - val_loss: 0.3557 - val_categorical_accuracy: 0.8520\n",
      "Epoch 14/20\n",
      "34841/34841 [==============================] - 34s 982us/step - loss: 0.2509 - categorical_accuracy: 0.8966 - val_loss: 0.3375 - val_categorical_accuracy: 0.8593\n",
      "Epoch 15/20\n",
      "34841/34841 [==============================] - 34s 981us/step - loss: 0.2401 - categorical_accuracy: 0.9022 - val_loss: 0.3275 - val_categorical_accuracy: 0.8663\n",
      "Epoch 16/20\n",
      "34841/34841 [==============================] - 34s 981us/step - loss: 0.2359 - categorical_accuracy: 0.9056 - val_loss: 0.3458 - val_categorical_accuracy: 0.8571\n",
      "Epoch 17/20\n",
      "34841/34841 [==============================] - 34s 979us/step - loss: 0.2260 - categorical_accuracy: 0.9093 - val_loss: 0.3501 - val_categorical_accuracy: 0.8573\n",
      "Epoch 18/20\n",
      "34841/34841 [==============================] - 34s 980us/step - loss: 0.2183 - categorical_accuracy: 0.9137 - val_loss: 0.3633 - val_categorical_accuracy: 0.8548\n",
      "Epoch 19/20\n",
      "34841/34841 [==============================] - 34s 979us/step - loss: 0.2057 - categorical_accuracy: 0.9194 - val_loss: 0.3413 - val_categorical_accuracy: 0.8632\n",
      "Epoch 20/20\n",
      "34841/34841 [==============================] - 34s 979us/step - loss: 0.2005 - categorical_accuracy: 0.9208 - val_loss: 0.3394 - val_categorical_accuracy: 0.8667\n",
      "kla-1h num dense 8 num motifs 100 pool size 1 dropout rate 0.1 param count 10810\n",
      "Train on 34841 samples, validate on 8711 samples\n",
      "Epoch 1/20\n",
      "34841/34841 [==============================] - 37s 1ms/step - loss: 0.6816 - categorical_accuracy: 0.5434 - val_loss: 0.6331 - val_categorical_accuracy: 0.6491\n",
      "Epoch 2/20\n",
      "34841/34841 [==============================] - 33s 953us/step - loss: 0.5939 - categorical_accuracy: 0.6814 - val_loss: 0.5607 - val_categorical_accuracy: 0.7136\n",
      "Epoch 3/20\n",
      "34841/34841 [==============================] - 33s 954us/step - loss: 0.5398 - categorical_accuracy: 0.7264 - val_loss: 0.5772 - val_categorical_accuracy: 0.7036\n",
      "Epoch 4/20\n",
      "34841/34841 [==============================] - 33s 952us/step - loss: 0.5029 - categorical_accuracy: 0.7528 - val_loss: 0.4771 - val_categorical_accuracy: 0.7756\n",
      "Epoch 5/20\n",
      "34841/34841 [==============================] - 33s 954us/step - loss: 0.4582 - categorical_accuracy: 0.7830 - val_loss: 0.4522 - val_categorical_accuracy: 0.7883\n",
      "Epoch 6/20\n",
      "34841/34841 [==============================] - 33s 953us/step - loss: 0.4288 - categorical_accuracy: 0.8039 - val_loss: 0.4582 - val_categorical_accuracy: 0.7858\n",
      "Epoch 7/20\n",
      "34841/34841 [==============================] - 33s 953us/step - loss: 0.4010 - categorical_accuracy: 0.8186 - val_loss: 0.4026 - val_categorical_accuracy: 0.8138\n",
      "Epoch 8/20\n",
      "34841/34841 [==============================] - 33s 956us/step - loss: 0.3763 - categorical_accuracy: 0.8327 - val_loss: 0.3834 - val_categorical_accuracy: 0.8299\n",
      "Epoch 9/20\n",
      "34841/34841 [==============================] - 33s 954us/step - loss: 0.3503 - categorical_accuracy: 0.8458 - val_loss: 0.3642 - val_categorical_accuracy: 0.8396\n",
      "Epoch 10/20\n",
      "34841/34841 [==============================] - 33s 956us/step - loss: 0.3333 - categorical_accuracy: 0.8547 - val_loss: 0.3922 - val_categorical_accuracy: 0.8203\n",
      "Epoch 11/20\n",
      "34841/34841 [==============================] - 33s 955us/step - loss: 0.3217 - categorical_accuracy: 0.8610 - val_loss: 0.3523 - val_categorical_accuracy: 0.8456\n",
      "Epoch 12/20\n",
      "34841/34841 [==============================] - 33s 955us/step - loss: 0.3071 - categorical_accuracy: 0.8689 - val_loss: 0.3368 - val_categorical_accuracy: 0.8560\n",
      "Epoch 13/20\n",
      "34841/34841 [==============================] - 33s 953us/step - loss: 0.2989 - categorical_accuracy: 0.8733 - val_loss: 0.3392 - val_categorical_accuracy: 0.8541\n",
      "Epoch 14/20\n",
      "34841/34841 [==============================] - 33s 956us/step - loss: 0.2959 - categorical_accuracy: 0.8756 - val_loss: 0.3318 - val_categorical_accuracy: 0.8532\n",
      "Epoch 15/20\n",
      "34841/34841 [==============================] - 33s 954us/step - loss: 0.2850 - categorical_accuracy: 0.8812 - val_loss: 0.3359 - val_categorical_accuracy: 0.8585\n",
      "Epoch 16/20\n",
      "34841/34841 [==============================] - 33s 954us/step - loss: 0.2825 - categorical_accuracy: 0.8810 - val_loss: 0.3304 - val_categorical_accuracy: 0.8619\n",
      "Epoch 17/20\n",
      "34841/34841 [==============================] - 33s 955us/step - loss: 0.2718 - categorical_accuracy: 0.8867 - val_loss: 0.3707 - val_categorical_accuracy: 0.8337\n"
     ]
    },
    {
     "name": "stdout",
     "output_type": "stream",
     "text": [
      "Epoch 18/20\n",
      "34841/34841 [==============================] - 33s 954us/step - loss: 0.2681 - categorical_accuracy: 0.8875 - val_loss: 0.3315 - val_categorical_accuracy: 0.8596\n",
      "Epoch 19/20\n",
      "34841/34841 [==============================] - 33s 954us/step - loss: 0.2645 - categorical_accuracy: 0.8910 - val_loss: 0.3336 - val_categorical_accuracy: 0.8633\n",
      "Epoch 20/20\n",
      "34841/34841 [==============================] - 33s 953us/step - loss: 0.2550 - categorical_accuracy: 0.8948 - val_loss: 0.3342 - val_categorical_accuracy: 0.8598\n",
      "kla-1h num dense 8 num motifs 150 pool size 1 dropout rate 0.1 param count 14610\n",
      "Train on 34841 samples, validate on 8711 samples\n",
      "Epoch 1/20\n",
      "34841/34841 [==============================] - 38s 1ms/step - loss: 0.6800 - categorical_accuracy: 0.5470 - val_loss: 0.6298 - val_categorical_accuracy: 0.6414\n",
      "Epoch 2/20\n",
      "34841/34841 [==============================] - 34s 972us/step - loss: 0.5886 - categorical_accuracy: 0.6868 - val_loss: 0.5687 - val_categorical_accuracy: 0.7018\n",
      "Epoch 3/20\n",
      "34841/34841 [==============================] - 34s 975us/step - loss: 0.5350 - categorical_accuracy: 0.7305 - val_loss: 0.5061 - val_categorical_accuracy: 0.7523\n",
      "Epoch 4/20\n",
      "34841/34841 [==============================] - 34s 974us/step - loss: 0.4755 - categorical_accuracy: 0.7733 - val_loss: 0.4546 - val_categorical_accuracy: 0.7865\n",
      "Epoch 5/20\n",
      "34841/34841 [==============================] - 34s 976us/step - loss: 0.4207 - categorical_accuracy: 0.8083 - val_loss: 0.4126 - val_categorical_accuracy: 0.8120\n",
      "Epoch 6/20\n",
      "34841/34841 [==============================] - 34s 971us/step - loss: 0.3906 - categorical_accuracy: 0.8249 - val_loss: 0.4089 - val_categorical_accuracy: 0.8118\n",
      "Epoch 7/20\n",
      "34841/34841 [==============================] - 34s 971us/step - loss: 0.3617 - categorical_accuracy: 0.8402 - val_loss: 0.3856 - val_categorical_accuracy: 0.8271\n",
      "Epoch 8/20\n",
      "34841/34841 [==============================] - 34s 976us/step - loss: 0.3435 - categorical_accuracy: 0.8496 - val_loss: 0.3700 - val_categorical_accuracy: 0.8371\n",
      "Epoch 9/20\n",
      "34841/34841 [==============================] - 34s 973us/step - loss: 0.3256 - categorical_accuracy: 0.8591 - val_loss: 0.3596 - val_categorical_accuracy: 0.8427\n",
      "Epoch 10/20\n",
      "34841/34841 [==============================] - 34s 973us/step - loss: 0.3152 - categorical_accuracy: 0.8655 - val_loss: 0.3558 - val_categorical_accuracy: 0.8465\n",
      "Epoch 11/20\n",
      "34841/34841 [==============================] - 34s 972us/step - loss: 0.2972 - categorical_accuracy: 0.8746 - val_loss: 0.3386 - val_categorical_accuracy: 0.8526\n",
      "Epoch 12/20\n",
      "34841/34841 [==============================] - 34s 972us/step - loss: 0.2846 - categorical_accuracy: 0.8808 - val_loss: 0.3422 - val_categorical_accuracy: 0.8525\n",
      "Epoch 13/20\n",
      "34841/34841 [==============================] - 34s 974us/step - loss: 0.2824 - categorical_accuracy: 0.8810 - val_loss: 0.3620 - val_categorical_accuracy: 0.8402\n",
      "Epoch 14/20\n",
      "34841/34841 [==============================] - 34s 974us/step - loss: 0.2706 - categorical_accuracy: 0.8876 - val_loss: 0.4453 - val_categorical_accuracy: 0.8188\n",
      "Epoch 15/20\n",
      "34841/34841 [==============================] - 34s 973us/step - loss: 0.2622 - categorical_accuracy: 0.8931 - val_loss: 0.3432 - val_categorical_accuracy: 0.8539\n",
      "Epoch 16/20\n",
      "34841/34841 [==============================] - 34s 974us/step - loss: 0.2578 - categorical_accuracy: 0.8935 - val_loss: 0.3477 - val_categorical_accuracy: 0.8546\n",
      "Epoch 17/20\n",
      "34841/34841 [==============================] - 34s 974us/step - loss: 0.2522 - categorical_accuracy: 0.8983 - val_loss: 0.3329 - val_categorical_accuracy: 0.8556\n",
      "Epoch 18/20\n",
      "34841/34841 [==============================] - 34s 974us/step - loss: 0.2442 - categorical_accuracy: 0.9011 - val_loss: 0.3311 - val_categorical_accuracy: 0.8619\n",
      "Epoch 19/20\n",
      "34841/34841 [==============================] - 34s 974us/step - loss: 0.2357 - categorical_accuracy: 0.9042 - val_loss: 0.3339 - val_categorical_accuracy: 0.8610\n",
      "Epoch 20/20\n",
      "34841/34841 [==============================] - 34s 975us/step - loss: 0.2294 - categorical_accuracy: 0.9077 - val_loss: 0.3405 - val_categorical_accuracy: 0.8581\n",
      "kla-1h num dense 8 num motifs 200 pool size 1 dropout rate 0.1 param count 18410\n",
      "Train on 34841 samples, validate on 8711 samples\n",
      "Epoch 1/20\n",
      "34841/34841 [==============================] - 39s 1ms/step - loss: 0.6743 - categorical_accuracy: 0.5545 - val_loss: 0.6270 - val_categorical_accuracy: 0.6436\n",
      "Epoch 2/20\n",
      "34841/34841 [==============================] - 35s 994us/step - loss: 0.5792 - categorical_accuracy: 0.6909 - val_loss: 0.5363 - val_categorical_accuracy: 0.7355\n",
      "Epoch 3/20\n",
      "34841/34841 [==============================] - 35s 994us/step - loss: 0.5116 - categorical_accuracy: 0.7502 - val_loss: 0.4741 - val_categorical_accuracy: 0.7780\n",
      "Epoch 4/20\n",
      "34841/34841 [==============================] - 35s 993us/step - loss: 0.4564 - categorical_accuracy: 0.7871 - val_loss: 0.4328 - val_categorical_accuracy: 0.8038\n",
      "Epoch 5/20\n",
      "34841/34841 [==============================] - 35s 995us/step - loss: 0.4154 - categorical_accuracy: 0.8105 - val_loss: 0.4038 - val_categorical_accuracy: 0.8190\n",
      "Epoch 6/20\n",
      "34841/34841 [==============================] - 35s 994us/step - loss: 0.3720 - categorical_accuracy: 0.8378 - val_loss: 0.3752 - val_categorical_accuracy: 0.8331\n",
      "Epoch 7/20\n",
      "34841/34841 [==============================] - 35s 995us/step - loss: 0.3518 - categorical_accuracy: 0.8465 - val_loss: 0.3762 - val_categorical_accuracy: 0.8337\n",
      "Epoch 8/20\n",
      "34841/34841 [==============================] - 35s 996us/step - loss: 0.3287 - categorical_accuracy: 0.8595 - val_loss: 0.3546 - val_categorical_accuracy: 0.8449\n",
      "Epoch 9/20\n",
      "34841/34841 [==============================] - 35s 992us/step - loss: 0.3083 - categorical_accuracy: 0.8683 - val_loss: 0.3577 - val_categorical_accuracy: 0.8453\n",
      "Epoch 10/20\n",
      "34841/34841 [==============================] - 35s 994us/step - loss: 0.3034 - categorical_accuracy: 0.8726 - val_loss: 0.3429 - val_categorical_accuracy: 0.8501\n",
      "Epoch 11/20\n",
      "34841/34841 [==============================] - 35s 994us/step - loss: 0.2870 - categorical_accuracy: 0.8795 - val_loss: 0.3403 - val_categorical_accuracy: 0.8520\n",
      "Epoch 12/20\n",
      "34841/34841 [==============================] - 35s 994us/step - loss: 0.2753 - categorical_accuracy: 0.8844 - val_loss: 0.3537 - val_categorical_accuracy: 0.8443\n",
      "Epoch 13/20\n",
      "34841/34841 [==============================] - 35s 994us/step - loss: 0.2633 - categorical_accuracy: 0.8909 - val_loss: 0.3439 - val_categorical_accuracy: 0.8475\n",
      "Epoch 14/20\n",
      "34841/34841 [==============================] - 35s 995us/step - loss: 0.2539 - categorical_accuracy: 0.8963 - val_loss: 0.3482 - val_categorical_accuracy: 0.8539\n",
      "Epoch 15/20\n",
      "34841/34841 [==============================] - 35s 992us/step - loss: 0.2413 - categorical_accuracy: 0.9016 - val_loss: 0.3770 - val_categorical_accuracy: 0.8435\n",
      "Epoch 16/20\n",
      "34841/34841 [==============================] - 35s 994us/step - loss: 0.2344 - categorical_accuracy: 0.9045 - val_loss: 0.3465 - val_categorical_accuracy: 0.8539\n",
      "Epoch 17/20\n",
      "34841/34841 [==============================] - 35s 992us/step - loss: 0.2213 - categorical_accuracy: 0.9110 - val_loss: 0.3498 - val_categorical_accuracy: 0.8581\n",
      "Epoch 18/20\n",
      "34841/34841 [==============================] - 35s 994us/step - loss: 0.2202 - categorical_accuracy: 0.9113 - val_loss: 0.3757 - val_categorical_accuracy: 0.8488\n",
      "Epoch 19/20\n",
      "34841/34841 [==============================] - 35s 993us/step - loss: 0.2125 - categorical_accuracy: 0.9166 - val_loss: 0.3886 - val_categorical_accuracy: 0.8467\n",
      "Epoch 20/20\n",
      "34841/34841 [==============================] - 35s 994us/step - loss: 0.2058 - categorical_accuracy: 0.9188 - val_loss: 0.3544 - val_categorical_accuracy: 0.8550\n"
     ]
    }
   ],
   "source": [
    "all_rocs = []\n",
    "all_accuracies = []\n",
    "all_precisions = []\n",
    "poolSize_list = []\n",
    "all_treatments = []\n",
    "motifCount_list = []\n",
    "numDense_list = []\n",
    "paramCount_list = []\n",
    "dropoutRate_list = []\n",
    "num_epochs = 20\n",
    "for treatment in ['kla-1h']:#treatment_positive_fasta_dict:\n",
    "    positive_sequence_arrays = treatment_positive_seqArray_dict[treatment] \n",
    "    positive_rc_sequence_arrays = treatment_positive_rc_seqArray_dict[treatment]\n",
    "    negative_sequence_arrays = treatment_negative_seqArray_dict[treatment]\n",
    "    negative_rc_sequence_arrays = treatment_negative_rc_seqArray_dict[treatment]\n",
    "\n",
    "    sequence_arrays = np.concatenate([positive_sequence_arrays, negative_sequence_arrays])\n",
    "    sequence_rc_arrays = np.concatenate([positive_rc_sequence_arrays, negative_rc_sequence_arrays])\n",
    "    labels = [1 for x in positive_sequence_arrays] + [0 for x in negative_sequence_arrays]\n",
    "    labels = np.array(labels)\n",
    "\n",
    "    x_train, x_test, x_rc_train, x_rc_test, y_train, y_test = model_selection.train_test_split(\n",
    "        sequence_arrays, \n",
    "        sequence_rc_arrays, \n",
    "        labels, \n",
    "        test_size=0.2)\n",
    "\n",
    "    num_classes = 2\n",
    "    y_train = keras.utils.to_categorical(y_train, num_classes)\n",
    "    y_test = keras.utils.to_categorical(y_test, num_classes)    \n",
    "    \n",
    "    for d in [1,4,8]:\n",
    "        for m in [100,150, 200]:\n",
    "            for p in [1]:\n",
    "                for do in [0.1]:\n",
    "                    \n",
    "                    current_model = get_dotProductAttention_model(200,\n",
    "                        mode='classification',\n",
    "                        num_classes = 2,\n",
    "                        num_motifs=m, \n",
    "                        motif_size=16,\n",
    "                        adjacent_bp_pool_size=p,\n",
    "                        num_dense_neurons=d,\n",
    "                        dropout_rate=do)\n",
    "                    num_params = current_model.count_params()\n",
    "                    print(treatment, \n",
    "                         'num dense', d,\n",
    "                         'num motifs', m,\n",
    "                         'pool size', p,\n",
    "                         'dropout rate', do,\n",
    "                         'param count', num_params)\n",
    "                    current_model.fit(x_train, y_train,\n",
    "                          batch_size=64,\n",
    "                          epochs=num_epochs,\n",
    "                          verbose=1,\n",
    "                          validation_data=([x_test], y_test))\n",
    "\n",
    "                    probs = current_model.predict([x_test])\n",
    "                    test_predictions = [0 if x[0] > x[1] else 1 for x in probs]\n",
    "                    roc = sklearn.metrics.roc_auc_score([y[1] for y in y_test], probs[:,1])\n",
    "                    precision = sklearn.metrics.precision_score([y[1] for y in y_test], test_predictions)\n",
    "                    acc = sklearn.metrics.accuracy_score([y[1] for y in y_test], test_predictions)\n",
    "                    \n",
    "                    all_rocs.append(roc)\n",
    "                    all_accuracies.append(acc)\n",
    "                    all_precisions.append(precision)\n",
    "                    poolSize_list.append(p)\n",
    "                    all_treatments.append(treatment)\n",
    "                    motifCount_list.append(m)\n",
    "                    numDense_list.append(d)\n",
    "                    paramCount_list.append(num_params)\n",
    "                    dropoutRate_list.append(do)"
   ]
  },
  {
   "cell_type": "code",
   "execution_count": null,
   "metadata": {
    "collapsed": true,
    "scrolled": false
   },
   "outputs": [],
   "source": [
    "performance_frame = pd.DataFrame({'aucROC':all_rocs, \n",
    "                      'Accuracy':all_accuracies, \n",
    "                      'Pool Size':poolSize_list, \n",
    "                      'Precision':all_precisions,\n",
    "                      'Treatment':all_treatments,\n",
    "                      'Num Motifs':motifCount_list,\n",
    "                      'Num Dense':numDense_list,\n",
    "                      'Num Params':paramCount_list,\n",
    "                      'Dropout Rate':dropoutRate_list\n",
    "                      })"
   ]
  },
  {
   "cell_type": "code",
   "execution_count": 146,
   "metadata": {},
   "outputs": [
    {
     "data": {
      "text/html": [
       "<div>\n",
       "<style>\n",
       "    .dataframe thead tr:only-child th {\n",
       "        text-align: right;\n",
       "    }\n",
       "\n",
       "    .dataframe thead th {\n",
       "        text-align: left;\n",
       "    }\n",
       "\n",
       "    .dataframe tbody tr th {\n",
       "        vertical-align: top;\n",
       "    }\n",
       "</style>\n",
       "<table border=\"1\" class=\"dataframe\">\n",
       "  <thead>\n",
       "    <tr style=\"text-align: right;\">\n",
       "      <th></th>\n",
       "      <th>Accuracy</th>\n",
       "      <th>Dropout Rate</th>\n",
       "      <th>Num Dense</th>\n",
       "      <th>Num Motifs</th>\n",
       "      <th>Num Params</th>\n",
       "      <th>Pool Size</th>\n",
       "      <th>Precision</th>\n",
       "      <th>Treatment</th>\n",
       "      <th>aucROC</th>\n",
       "    </tr>\n",
       "  </thead>\n",
       "  <tbody>\n",
       "    <tr>\n",
       "      <th>5</th>\n",
       "      <td>0.866720</td>\n",
       "      <td>0.1</td>\n",
       "      <td>4</td>\n",
       "      <td>200</td>\n",
       "      <td>16006</td>\n",
       "      <td>1</td>\n",
       "      <td>0.852837</td>\n",
       "      <td>kla-1h</td>\n",
       "      <td>0.937087</td>\n",
       "    </tr>\n",
       "    <tr>\n",
       "      <th>1</th>\n",
       "      <td>0.860751</td>\n",
       "      <td>0.1</td>\n",
       "      <td>1</td>\n",
       "      <td>150</td>\n",
       "      <td>10753</td>\n",
       "      <td>1</td>\n",
       "      <td>0.858188</td>\n",
       "      <td>kla-1h</td>\n",
       "      <td>0.935163</td>\n",
       "    </tr>\n",
       "    <tr>\n",
       "      <th>3</th>\n",
       "      <td>0.860062</td>\n",
       "      <td>0.1</td>\n",
       "      <td>4</td>\n",
       "      <td>100</td>\n",
       "      <td>8806</td>\n",
       "      <td>1</td>\n",
       "      <td>0.855389</td>\n",
       "      <td>kla-1h</td>\n",
       "      <td>0.921384</td>\n",
       "    </tr>\n",
       "    <tr>\n",
       "      <th>6</th>\n",
       "      <td>0.859832</td>\n",
       "      <td>0.1</td>\n",
       "      <td>8</td>\n",
       "      <td>100</td>\n",
       "      <td>10810</td>\n",
       "      <td>1</td>\n",
       "      <td>0.859080</td>\n",
       "      <td>kla-1h</td>\n",
       "      <td>0.920183</td>\n",
       "    </tr>\n",
       "    <tr>\n",
       "      <th>7</th>\n",
       "      <td>0.858110</td>\n",
       "      <td>0.1</td>\n",
       "      <td>8</td>\n",
       "      <td>150</td>\n",
       "      <td>14610</td>\n",
       "      <td>1</td>\n",
       "      <td>0.827608</td>\n",
       "      <td>kla-1h</td>\n",
       "      <td>0.924390</td>\n",
       "    </tr>\n",
       "  </tbody>\n",
       "</table>\n",
       "</div>"
      ],
      "text/plain": [
       "   Accuracy  Dropout Rate  Num Dense  Num Motifs  Num Params  Pool Size  \\\n",
       "5  0.866720           0.1          4         200       16006          1   \n",
       "1  0.860751           0.1          1         150       10753          1   \n",
       "3  0.860062           0.1          4         100        8806          1   \n",
       "6  0.859832           0.1          8         100       10810          1   \n",
       "7  0.858110           0.1          8         150       14610          1   \n",
       "\n",
       "   Precision Treatment    aucROC  \n",
       "5   0.852837    kla-1h  0.937087  \n",
       "1   0.858188    kla-1h  0.935163  \n",
       "3   0.855389    kla-1h  0.921384  \n",
       "6   0.859080    kla-1h  0.920183  \n",
       "7   0.827608    kla-1h  0.924390  "
      ]
     },
     "execution_count": 146,
     "metadata": {},
     "output_type": "execute_result"
    }
   ],
   "source": [
    "performance_frame[performance_frame['Treatment'] == 'kla-1h'].sort_values('Accuracy',ascending = False).head()"
   ]
  },
  {
   "cell_type": "code",
   "execution_count": 147,
   "metadata": {},
   "outputs": [
    {
     "data": {
      "text/html": [
       "<div>\n",
       "<style>\n",
       "    .dataframe thead tr:only-child th {\n",
       "        text-align: right;\n",
       "    }\n",
       "\n",
       "    .dataframe thead th {\n",
       "        text-align: left;\n",
       "    }\n",
       "\n",
       "    .dataframe tbody tr th {\n",
       "        vertical-align: top;\n",
       "    }\n",
       "</style>\n",
       "<table border=\"1\" class=\"dataframe\">\n",
       "  <thead>\n",
       "    <tr style=\"text-align: right;\">\n",
       "      <th></th>\n",
       "      <th>Accuracy</th>\n",
       "      <th>Dropout Rate</th>\n",
       "      <th>Num Dense</th>\n",
       "      <th>Num Motifs</th>\n",
       "      <th>Num Params</th>\n",
       "      <th>Pool Size</th>\n",
       "      <th>Precision</th>\n",
       "      <th>Treatment</th>\n",
       "      <th>aucROC</th>\n",
       "    </tr>\n",
       "  </thead>\n",
       "  <tbody>\n",
       "    <tr>\n",
       "      <th>6</th>\n",
       "      <td>0.859832</td>\n",
       "      <td>0.1</td>\n",
       "      <td>8</td>\n",
       "      <td>100</td>\n",
       "      <td>10810</td>\n",
       "      <td>1</td>\n",
       "      <td>0.859080</td>\n",
       "      <td>kla-1h</td>\n",
       "      <td>0.920183</td>\n",
       "    </tr>\n",
       "    <tr>\n",
       "      <th>2</th>\n",
       "      <td>0.855241</td>\n",
       "      <td>0.1</td>\n",
       "      <td>1</td>\n",
       "      <td>200</td>\n",
       "      <td>14203</td>\n",
       "      <td>1</td>\n",
       "      <td>0.858271</td>\n",
       "      <td>kla-1h</td>\n",
       "      <td>0.928753</td>\n",
       "    </tr>\n",
       "    <tr>\n",
       "      <th>1</th>\n",
       "      <td>0.860751</td>\n",
       "      <td>0.1</td>\n",
       "      <td>1</td>\n",
       "      <td>150</td>\n",
       "      <td>10753</td>\n",
       "      <td>1</td>\n",
       "      <td>0.858188</td>\n",
       "      <td>kla-1h</td>\n",
       "      <td>0.935163</td>\n",
       "    </tr>\n",
       "    <tr>\n",
       "      <th>3</th>\n",
       "      <td>0.860062</td>\n",
       "      <td>0.1</td>\n",
       "      <td>4</td>\n",
       "      <td>100</td>\n",
       "      <td>8806</td>\n",
       "      <td>1</td>\n",
       "      <td>0.855389</td>\n",
       "      <td>kla-1h</td>\n",
       "      <td>0.921384</td>\n",
       "    </tr>\n",
       "    <tr>\n",
       "      <th>5</th>\n",
       "      <td>0.866720</td>\n",
       "      <td>0.1</td>\n",
       "      <td>4</td>\n",
       "      <td>200</td>\n",
       "      <td>16006</td>\n",
       "      <td>1</td>\n",
       "      <td>0.852837</td>\n",
       "      <td>kla-1h</td>\n",
       "      <td>0.937087</td>\n",
       "    </tr>\n",
       "  </tbody>\n",
       "</table>\n",
       "</div>"
      ],
      "text/plain": [
       "   Accuracy  Dropout Rate  Num Dense  Num Motifs  Num Params  Pool Size  \\\n",
       "6  0.859832           0.1          8         100       10810          1   \n",
       "2  0.855241           0.1          1         200       14203          1   \n",
       "1  0.860751           0.1          1         150       10753          1   \n",
       "3  0.860062           0.1          4         100        8806          1   \n",
       "5  0.866720           0.1          4         200       16006          1   \n",
       "\n",
       "   Precision Treatment    aucROC  \n",
       "6   0.859080    kla-1h  0.920183  \n",
       "2   0.858271    kla-1h  0.928753  \n",
       "1   0.858188    kla-1h  0.935163  \n",
       "3   0.855389    kla-1h  0.921384  \n",
       "5   0.852837    kla-1h  0.937087  "
      ]
     },
     "execution_count": 147,
     "metadata": {},
     "output_type": "execute_result"
    }
   ],
   "source": [
    "performance_frame[performance_frame['Treatment'] == 'kla-1h'].sort_values('Precision',ascending = False).head()"
   ]
  },
  {
   "cell_type": "code",
   "execution_count": 148,
   "metadata": {},
   "outputs": [
    {
     "data": {
      "text/html": [
       "<div>\n",
       "<style>\n",
       "    .dataframe thead tr:only-child th {\n",
       "        text-align: right;\n",
       "    }\n",
       "\n",
       "    .dataframe thead th {\n",
       "        text-align: left;\n",
       "    }\n",
       "\n",
       "    .dataframe tbody tr th {\n",
       "        vertical-align: top;\n",
       "    }\n",
       "</style>\n",
       "<table border=\"1\" class=\"dataframe\">\n",
       "  <thead>\n",
       "    <tr style=\"text-align: right;\">\n",
       "      <th></th>\n",
       "      <th>Accuracy</th>\n",
       "      <th>Dropout Rate</th>\n",
       "      <th>Num Dense</th>\n",
       "      <th>Num Motifs</th>\n",
       "      <th>Num Params</th>\n",
       "      <th>Pool Size</th>\n",
       "      <th>Precision</th>\n",
       "      <th>Treatment</th>\n",
       "      <th>aucROC</th>\n",
       "    </tr>\n",
       "  </thead>\n",
       "  <tbody>\n",
       "    <tr>\n",
       "      <th>5</th>\n",
       "      <td>0.866720</td>\n",
       "      <td>0.1</td>\n",
       "      <td>4</td>\n",
       "      <td>200</td>\n",
       "      <td>16006</td>\n",
       "      <td>1</td>\n",
       "      <td>0.852837</td>\n",
       "      <td>kla-1h</td>\n",
       "      <td>0.937087</td>\n",
       "    </tr>\n",
       "    <tr>\n",
       "      <th>1</th>\n",
       "      <td>0.860751</td>\n",
       "      <td>0.1</td>\n",
       "      <td>1</td>\n",
       "      <td>150</td>\n",
       "      <td>10753</td>\n",
       "      <td>1</td>\n",
       "      <td>0.858188</td>\n",
       "      <td>kla-1h</td>\n",
       "      <td>0.935163</td>\n",
       "    </tr>\n",
       "    <tr>\n",
       "      <th>2</th>\n",
       "      <td>0.855241</td>\n",
       "      <td>0.1</td>\n",
       "      <td>1</td>\n",
       "      <td>200</td>\n",
       "      <td>14203</td>\n",
       "      <td>1</td>\n",
       "      <td>0.858271</td>\n",
       "      <td>kla-1h</td>\n",
       "      <td>0.928753</td>\n",
       "    </tr>\n",
       "    <tr>\n",
       "      <th>4</th>\n",
       "      <td>0.855929</td>\n",
       "      <td>0.1</td>\n",
       "      <td>4</td>\n",
       "      <td>150</td>\n",
       "      <td>12406</td>\n",
       "      <td>1</td>\n",
       "      <td>0.851136</td>\n",
       "      <td>kla-1h</td>\n",
       "      <td>0.927859</td>\n",
       "    </tr>\n",
       "    <tr>\n",
       "      <th>0</th>\n",
       "      <td>0.851797</td>\n",
       "      <td>0.1</td>\n",
       "      <td>1</td>\n",
       "      <td>100</td>\n",
       "      <td>7303</td>\n",
       "      <td>1</td>\n",
       "      <td>0.845319</td>\n",
       "      <td>kla-1h</td>\n",
       "      <td>0.927701</td>\n",
       "    </tr>\n",
       "  </tbody>\n",
       "</table>\n",
       "</div>"
      ],
      "text/plain": [
       "   Accuracy  Dropout Rate  Num Dense  Num Motifs  Num Params  Pool Size  \\\n",
       "5  0.866720           0.1          4         200       16006          1   \n",
       "1  0.860751           0.1          1         150       10753          1   \n",
       "2  0.855241           0.1          1         200       14203          1   \n",
       "4  0.855929           0.1          4         150       12406          1   \n",
       "0  0.851797           0.1          1         100        7303          1   \n",
       "\n",
       "   Precision Treatment    aucROC  \n",
       "5   0.852837    kla-1h  0.937087  \n",
       "1   0.858188    kla-1h  0.935163  \n",
       "2   0.858271    kla-1h  0.928753  \n",
       "4   0.851136    kla-1h  0.927859  \n",
       "0   0.845319    kla-1h  0.927701  "
      ]
     },
     "execution_count": 148,
     "metadata": {},
     "output_type": "execute_result"
    }
   ],
   "source": [
    "performance_frame[performance_frame['Treatment'] == 'kla-1h'].sort_values('aucROC',ascending = False).head()"
   ]
  },
  {
   "cell_type": "code",
   "execution_count": null,
   "metadata": {
    "collapsed": true
   },
   "outputs": [],
   "source": [
    "sns.factorplot(data = performance_frame, x = 'Num Dense', y='Accuracy', hue = 'Treatment')\n",
    "plt.ylim(0.8,0.9)"
   ]
  },
  {
   "cell_type": "code",
   "execution_count": null,
   "metadata": {
    "collapsed": true
   },
   "outputs": [],
   "source": [
    "performance_frame.to_csv('./grid_search_results.tsv', sep='\\t')"
   ]
  },
  {
   "cell_type": "markdown",
   "metadata": {},
   "source": [
    "## Weight Extraction"
   ]
  },
  {
   "cell_type": "code",
   "execution_count": 133,
   "metadata": {
    "collapsed": true
   },
   "outputs": [],
   "source": [
    "def get_sequence_attention(model, sequence_arrays, sequence_size, adjacent_bp_pool_size):\n",
    "    get_attention = K.function([model.get_layer('input_fwd').input, \n",
    "                                K.learning_phase()\n",
    "                               ], \n",
    "                               [model.get_layer('attention_softmax_layer').output])\n",
    "    trimmed_sequences = [x[:sequence_size] for x in sequence_arrays]\n",
    "    \n",
    "    attention = get_attention((trimmed_sequences, 0))[0]\n",
    "\n",
    "    return attention"
   ]
  },
  {
   "cell_type": "code",
   "execution_count": null,
   "metadata": {
    "collapsed": true,
    "scrolled": false
   },
   "outputs": [],
   "source": [
    "treatment_attention_dict = {}\n",
    "for ps in ['c57bl6_kla-1h_peaks.fasta', \n",
    "           'c57bl6_veh_peaks.fasta', \n",
    "           'c57bl6_il4-24h_peaks.fasta']:\n",
    "    treatment = ps.split('_')[1]\n",
    "    print('***',treatment, '***')\n",
    "    fasta_seq = treatment_positive_fasta_dict[treatment]\n",
    "    \n",
    "    sequence_arrays = treatment_positive_seqArray_dict[treatment]\n",
    "    if 'DotAttention_'+treatment in condition_model_dict:\n",
    "        current_model = condition_model_dict['DotAttention_'+treatment]\n",
    "\n",
    "        attention = get_sequence_attention(current_model,\n",
    "            sequence_arrays,\n",
    "            200,\n",
    "            10)\n",
    "\n",
    "        treatment_attention_dict[treatment] = attention\n"
   ]
  },
  {
   "cell_type": "markdown",
   "metadata": {},
   "source": [
    "## Visualize Attention"
   ]
  },
  {
   "cell_type": "markdown",
   "metadata": {},
   "source": [
    "### Overall Matrix"
   ]
  },
  {
   "cell_type": "code",
   "execution_count": null,
   "metadata": {
    "collapsed": true
   },
   "outputs": [],
   "source": [
    "sns.set_context('notebook')"
   ]
  },
  {
   "cell_type": "code",
   "execution_count": null,
   "metadata": {
    "collapsed": true
   },
   "outputs": [],
   "source": [
    "index = 1811\n",
    "plt.figure(figsize=(15,15))\n",
    "hm = sns.heatmap(attention[index], \n",
    "            yticklabels = False, \n",
    "            xticklabels = False, \n",
    "            square = True,\n",
    "           vmin=0,\n",
    "           vmax=0.4\n",
    "           )\n",
    "cb = hm.collections[0].colorbar\n",
    "cb.ax.set_visible(False)"
   ]
  },
  {
   "cell_type": "code",
   "execution_count": null,
   "metadata": {
    "collapsed": true
   },
   "outputs": [],
   "source": [
    "index = 19999\n",
    "# index = 19996\n",
    "plt.figure(figsize=(15,15))\n",
    "hm = sns.heatmap(attention[index], \n",
    "            yticklabels = False, \n",
    "            xticklabels = False, \n",
    "            square = True,\n",
    "           vmin=0,\n",
    "           vmax=0.5\n",
    "           )\n",
    "cb = hm.collections[0].colorbar\n",
    "cb.ax.set_visible(False)"
   ]
  },
  {
   "cell_type": "code",
   "execution_count": null,
   "metadata": {
    "collapsed": true
   },
   "outputs": [],
   "source": [
    "for treatment in treatment_attention_dict:\n",
    "    treatment_attention = treatment_attention_dict[treatment]\n",
    "    sns.distplot(treatment_attention[:100].flatten(), label = treatment)\n",
    "plt.xlabel('Attention')\n",
    "plt.ylabel('Frequency')\n",
    "plt.legend()"
   ]
  },
  {
   "cell_type": "markdown",
   "metadata": {},
   "source": [
    "#### Per sequence frequencies"
   ]
  },
  {
   "cell_type": "code",
   "execution_count": 50,
   "metadata": {},
   "outputs": [
    {
     "name": "stdout",
     "output_type": "stream",
     "text": [
      "veh\n",
      "0.1\n",
      "0.2\n",
      "0.3\n",
      "0.4\n",
      "0.5\n",
      "0.6\n",
      "0.7\n",
      "0.8\n",
      "0.9\n",
      "kla-1h\n",
      "0.1\n",
      "0.2\n",
      "0.3\n",
      "0.4\n",
      "0.5\n",
      "0.6\n",
      "0.7\n",
      "0.8\n",
      "0.9\n",
      "il4-24h\n",
      "0.1\n",
      "0.2\n",
      "0.3\n",
      "0.4\n",
      "0.5\n",
      "0.6\n",
      "0.7\n",
      "0.8\n",
      "0.9\n"
     ]
    }
   ],
   "source": [
    "num_positions = 200\n",
    "matrix_size = num_positions**2\n",
    "count_list = []\n",
    "treatment_list = []\n",
    "threshold_list = []\n",
    "for treatment in treatment_attention_dict:\n",
    "    treatment_attention = treatment_attention_dict[treatment]\n",
    "    print(treatment)\n",
    "    \n",
    "    for threshold in [np.round(x,2) for x in np.arange(0.1,1,0.1)]:\n",
    "        counter = 0\n",
    "        print(threshold)\n",
    "        for am in treatment_attention:\n",
    "            count = np.sum(am.flatten() > threshold)\n",
    "            count_list.append(count)\n",
    "#             normalized_count_list.append(count/matrix_size)\n",
    "            treatment_list.append(treatment)\n",
    "            threshold_list.append(threshold)\n",
    "#             counter+=1\n",
    "#             if counter % 10000 == 0:\n",
    "#                 print(counter)"
   ]
  },
  {
   "cell_type": "code",
   "execution_count": 52,
   "metadata": {
    "collapsed": true
   },
   "outputs": [],
   "source": [
    "frame = pd.DataFrame({'Treatment': treatment_list, \n",
    "                      'Threshold': threshold_list,\n",
    "                      'Count':count_list})"
   ]
  },
  {
   "cell_type": "code",
   "execution_count": 53,
   "metadata": {
    "scrolled": false
   },
   "outputs": [
    {
     "data": {
      "text/plain": [
       "<seaborn.axisgrid.FacetGrid at 0x7fb8e832fb00>"
      ]
     },
     "execution_count": 53,
     "metadata": {},
     "output_type": "execute_result"
    },
    {
     "data": {
      "image/png": "[encoded data removed]",
      "text/plain": [
       "<matplotlib.figure.Figure at 0x7fb8e832fba8>"
      ]
     },
     "metadata": {},
     "output_type": "display_data"
    }
   ],
   "source": [
    "sns.factorplot(data = frame, \n",
    "    x = 'Treatment',\n",
    "    y = 'Count',\n",
    "    hue='Threshold',\n",
    "    kind = 'box',\n",
    "    palette = 'Blues',\n",
    "    showfliers=False,\n",
    "    size = 10)"
   ]
  },
  {
   "cell_type": "markdown",
   "metadata": {},
   "source": [
    "### Max per Position"
   ]
  },
  {
   "cell_type": "code",
   "execution_count": 55,
   "metadata": {},
   "outputs": [
    {
     "data": {
      "text/plain": [
       "<matplotlib.legend.Legend at 0x7fb8c649a0f0>"
      ]
     },
     "execution_count": 55,
     "metadata": {},
     "output_type": "execute_result"
    },
    {
     "data": {
      "image/png": "[encoded data removed]",
      "text/plain": [
       "<matplotlib.figure.Figure at 0x7fb8c649a160>"
      ]
     },
     "metadata": {},
     "output_type": "display_data"
    }
   ],
   "source": [
    "for treatment in treatment_attention_dict:\n",
    "    treatment_attention = treatment_attention_dict[treatment]\n",
    "    max_attention = np.array([x.max(axis=0) for x in treatment_attention[:100]])\n",
    "    sns.distplot(max_attention.flatten(), label = treatment)\n",
    "plt.xlabel('Max Attention Per Position')\n",
    "plt.ylabel('Frequency')\n",
    "plt.legend()"
   ]
  },
  {
   "cell_type": "markdown",
   "metadata": {},
   "source": [
    "#### Per sequence frequencies"
   ]
  },
  {
   "cell_type": "code",
   "execution_count": 20,
   "metadata": {},
   "outputs": [
    {
     "name": "stdout",
     "output_type": "stream",
     "text": [
      "kla-1h\n",
      "veh\n",
      "il4-24h\n"
     ]
    }
   ],
   "source": [
    "count_list = []\n",
    "treatment_list = []\n",
    "threshold_list = []\n",
    "normalized_count_list = []\n",
    "for treatment in treatment_attention_dict:\n",
    "    treatment_attention = treatment_attention_dict[treatment]\n",
    "    max_attention = np.array([x.max(axis=0) for x in treatment_attention])\n",
    "    print(treatment)\n",
    "    for threshold in [np.round(x,2) for x in np.arange(0.1,1,0.1)]:\n",
    "        for fam in max_attention:\n",
    "            count = np.sum(fam.flatten() >= threshold)\n",
    "            count_list.append(count)\n",
    "            treatment_list.append(treatment)\n",
    "            threshold_list.append(threshold)\n",
    "        \n"
   ]
  },
  {
   "cell_type": "code",
   "execution_count": 21,
   "metadata": {
    "collapsed": true
   },
   "outputs": [],
   "source": [
    "frame = pd.DataFrame({'Treatment': treatment_list, \n",
    "                      'Threshold': threshold_list,\n",
    "                      'Count':count_list})"
   ]
  },
  {
   "cell_type": "code",
   "execution_count": 22,
   "metadata": {},
   "outputs": [
    {
     "data": {
      "text/plain": [
       "<seaborn.axisgrid.FacetGrid at 0x7f68dc6d7ef0>"
      ]
     },
     "execution_count": 22,
     "metadata": {},
     "output_type": "execute_result"
    },
    {
     "data": {
      "image/png": "[encoded data removed]",
      "text/plain": [
       "<matplotlib.figure.Figure at 0x7f68dc65c080>"
      ]
     },
     "metadata": {},
     "output_type": "display_data"
    }
   ],
   "source": [
    "sns.factorplot(data = frame, \n",
    "    x = 'Treatment',\n",
    "    y = 'Count',\n",
    "    hue='Threshold',\n",
    "    kind = 'box',\n",
    "    palette = 'Greens',\n",
    "    showfliers=False,\n",
    "    size = 10)\n"
   ]
  },
  {
   "cell_type": "markdown",
   "metadata": {},
   "source": [
    "## Per k-mer attention analysis"
   ]
  },
  {
   "cell_type": "markdown",
   "metadata": {},
   "source": [
    "### K-mers observed"
   ]
  },
  {
   "cell_type": "code",
   "execution_count": 59,
   "metadata": {},
   "outputs": [
    {
     "name": "stdout",
     "output_type": "stream",
     "text": [
      "1048576 10-mers possible\n"
     ]
    }
   ],
   "source": [
    "print(4**10, '10-mers possible')"
   ]
  },
  {
   "cell_type": "code",
   "execution_count": 60,
   "metadata": {},
   "outputs": [
    {
     "name": "stdout",
     "output_type": "stream",
     "text": [
      "*** veh ***\n",
      "917179 10-mers observed\n",
      "*** kla-1h ***\n",
      "852757 10-mers observed\n",
      "*** il4-24h ***\n",
      "918403 10-mers observed\n"
     ]
    }
   ],
   "source": [
    "kmer_size = 10\n",
    "sequence_size = 200\n",
    "\n",
    "for treatment in treatment_positive_fasta_dict:\n",
    "    kmer_set = set()\n",
    "    print('***',treatment, '***')\n",
    "\n",
    "    fasta_seq = treatment_positive_fasta_dict[treatment]\n",
    "    for seq in fasta_seq:\n",
    "        for i in range(0,sequence_size-kmer_size):\n",
    "            kmer = seq[i:i+kmer_size]\n",
    "            kmer_set.add(kmer)\n",
    "    print(len(kmer_set), '10-mers observed')   "
   ]
  },
  {
   "cell_type": "markdown",
   "metadata": {},
   "source": [
    "### Attention Accumulated by each 10-mer"
   ]
  },
  {
   "cell_type": "markdown",
   "metadata": {},
   "source": [
    "#### Total"
   ]
  },
  {
   "cell_type": "code",
   "execution_count": 641,
   "metadata": {
    "collapsed": true
   },
   "outputs": [],
   "source": [
    "kmer_size = 10\n",
    "sequence_size = 200\n",
    "count_list = []\n",
    "treatment_list = []\n",
    "threshold_list = []\n",
    "normalized_count_list = []\n",
    "treatment_maxAttention_dict = {}\n",
    "for treatment in treatment_attention_dict:\n",
    "    kmer_maxAttention_dict = {}\n",
    "    treatment_attention = treatment_attention_dict[treatment]\n",
    "    max_attention = np.array([x.max(axis=0) for x in treatment_attention])\n",
    "    treatment_fasta = treatment_positive_fasta_dict[treatment]\n",
    "    for ma, seq in zip(max_attention, treatment_fasta):\n",
    "        for i in range(0,sequence_size,kmer_size): \n",
    "            for j in range(kmer_size):\n",
    "                subseq = seq[i+j: i+j+kmer_size]\n",
    "                if not subseq in kmer_maxAttention_dict:\n",
    "                    kmer_maxAttention_dict[subseq] = ma[int(i/kmer_size)]\n",
    "                else:\n",
    "                    kmer_maxAttention_dict[subseq] += ma[int(i/kmer_size)]\n",
    "    treatment_maxAttention_dict[treatment] = kmer_maxAttention_dict"
   ]
  },
  {
   "cell_type": "code",
   "execution_count": 642,
   "metadata": {},
   "outputs": [
    {
     "name": "stdout",
     "output_type": "stream",
     "text": [
      "veh\n",
      "kla-1h\n",
      "il4-24h\n"
     ]
    },
    {
     "data": {
      "text/plain": [
       "<matplotlib.text.Text at 0x7f9a974d35f8>"
      ]
     },
     "execution_count": 642,
     "metadata": {},
     "output_type": "execute_result"
    },
    {
     "data": {
      "image/png": "[encoded data removed]",
      "text/plain": [
       "<matplotlib.figure.Figure at 0x7f9a9188e4a8>"
      ]
     },
     "metadata": {},
     "output_type": "display_data"
    }
   ],
   "source": [
    "for treatment in treatment_maxAttention_dict:\n",
    "    print(treatment)\n",
    "    maxAttention = np.array(list(treatment_maxAttention_dict[treatment].values()))\n",
    "    sns.distplot(np.log10(maxAttention+1), label = treatment)\n",
    "plt.legend()\n",
    "plt.xlabel('Total Attention')\n",
    "plt.ylabel('Frequency')"
   ]
  },
  {
   "cell_type": "markdown",
   "metadata": {},
   "source": [
    "#### Distribution"
   ]
  },
  {
   "cell_type": "code",
   "execution_count": 646,
   "metadata": {},
   "outputs": [
    {
     "name": "stdout",
     "output_type": "stream",
     "text": [
      "veh 5294220 6310000\n",
      "il4-24h 5340260 6703600\n",
      "kla-1h 3200210 4355200\n"
     ]
    }
   ],
   "source": [
    "attention_threshold = 0.2\n",
    "kmer_size = 10\n",
    "sequence_size = 200\n",
    "treatment_kmerAttendedCount_dict = {}\n",
    "for treatment in treatment_attention_dict:\n",
    "    kmer_attendedCount_dict = {}\n",
    "    overall_counter = 0\n",
    "    counter = 0\n",
    "    treatment_attention = treatment_attention_dict[treatment]\n",
    "    max_attention = np.array([x.max(axis=1) for x in treatment_attention])\n",
    "    treatment_fasta = treatment_positive_fasta_dict[treatment]\n",
    "    for fam, seq in zip(max_attention, treatment_fasta):\n",
    "        for i in range(0,sequence_size,kmer_size): \n",
    "            for j in range(kmer_size):\n",
    "                subseq = seq[i+j: i+j+kmer_size]\n",
    "                att = fam[int(i/kmer_size)]\n",
    "                overall_counter += 1\n",
    "                if att >=attention_threshold:\n",
    "                    counter +=1\n",
    "                    if not subseq in kmer_attendedCount_dict:\n",
    "                        kmer_attendedCount_dict[subseq] = 1\n",
    "                    else:\n",
    "                        kmer_attendedCount_dict[subseq] += 1\n",
    "    print(treatment,counter, overall_counter)\n",
    "    treatment_kmerAttendedCount_dict[treatment] = kmer_attendedCount_dict"
   ]
  },
  {
   "cell_type": "code",
   "execution_count": 647,
   "metadata": {
    "collapsed": true
   },
   "outputs": [],
   "source": [
    "count_list = []\n",
    "treatment_list = []\n",
    "threshold_list = []\n",
    "for treatment in treatment_kmerAttendedCount_dict:\n",
    "    counts = np.array(list(treatment_kmerAttendedCount_dict[treatment].values()))\n",
    "    fasta = treatment_positive_fasta_dict[treatment]\n",
    "    for threshold in np.arange(0.005,0.05,0.005):\n",
    "        rounded_threshold = np.round(threshold, 3)\n",
    "        count_threshold = int(threshold*len(fasta))\n",
    "        count = np.sum(counts > count_threshold)\n",
    "        \n",
    "        count_list.append(count)\n",
    "        treatment_list.append(treatment)\n",
    "        threshold_list.append(rounded_threshold)\n",
    "frame = pd.DataFrame({'Treatment':treatment_list,\n",
    "                      'Threshold':threshold_list,\n",
    "                      'Count':count_list})        "
   ]
  },
  {
   "cell_type": "code",
   "execution_count": 648,
   "metadata": {},
   "outputs": [
    {
     "data": {
      "image/png": "[encoded data removed]",
      "text/plain": [
       "<matplotlib.figure.Figure at 0x7f9a97444780>"
      ]
     },
     "metadata": {},
     "output_type": "display_data"
    }
   ],
   "source": [
    "sns.factorplot(data = frame,\n",
    "               x= 'Threshold',\n",
    "               y = 'Count',\n",
    "               hue = 'Treatment',\n",
    "               size=6)\n",
    "plt.xticks(rotation=90);"
   ]
  },
  {
   "cell_type": "markdown",
   "metadata": {},
   "source": [
    "## Create K-mer network"
   ]
  },
  {
   "cell_type": "code",
   "execution_count": 653,
   "metadata": {},
   "outputs": [
    {
     "data": {
      "text/plain": [
       "array([0.2172472 , 0.25620404, 0.20409442, 0.23104174, 0.4370355 ,\n",
       "       0.59980595, 0.2668783 , 0.66884017, 0.7239828 , 0.21032847,\n",
       "       0.4223705 , 0.71340513, 0.3015039 , 0.3440063 , 0.51151496,\n",
       "       0.25276846, 0.53751236, 0.21890686, 0.22671384, 0.27361572],\n",
       "      dtype=float32)"
      ]
     },
     "execution_count": 653,
     "metadata": {},
     "output_type": "execute_result"
    }
   ],
   "source": [
    "ma"
   ]
  },
  {
   "cell_type": "code",
   "execution_count": 654,
   "metadata": {},
   "outputs": [
    {
     "data": {
      "text/plain": [
       "0.27361572"
      ]
     },
     "execution_count": 654,
     "metadata": {},
     "output_type": "execute_result"
    }
   ],
   "source": [
    "att"
   ]
  },
  {
   "cell_type": "code",
   "execution_count": 694,
   "metadata": {},
   "outputs": [
    {
     "name": "stdout",
     "output_type": "stream",
     "text": [
      "veh\n",
      "66\n",
      "14\n",
      "il4-24h\n",
      "149\n",
      "67\n",
      "kla-1h\n",
      "254\n",
      "121\n"
     ]
    }
   ],
   "source": [
    "attention_threshold = 0.2\n",
    "count_threshold = 100\n",
    "kmer_size = 10\n",
    "sequence_size = 200\n",
    "kmer_count_dict = {}\n",
    "for treatment in treatment_attention_dict:\n",
    "    kmer_set = set()\n",
    "    print(treatment)\n",
    "\n",
    "    treatment_attention = treatment_attention_dict[treatment]\n",
    "    max_attention = np.array([x.max(axis=1) for x in treatment_attention])\n",
    "    treatment_fasta = treatment_positive_fasta_dict[treatment]\n",
    "    \n",
    "    for seq in treatment_fasta:\n",
    "\n",
    "        for i in range(0,sequence_size,kmer_size): \n",
    "            for j in range(kmer_size):\n",
    "                subseq = seq[i+j: i+j+kmer_size]\n",
    "                if subseq in kmer_count_dict:\n",
    "                    kmer_count_dict[subseq] += 1\n",
    "                else:\n",
    "                    kmer_count_dict[subseq] = 1\n",
    "    count = 0\n",
    "    for kmer in kmer_count_dict:\n",
    "        if kmer_count_dict[kmer] > count_threshold:\n",
    "            count+=1\n",
    "    print(count)\n",
    "    for ma, seq in zip(max_attention, treatment_fasta):\n",
    "        for i in range(0,sequence_size,kmer_size): \n",
    "            for j in range(kmer_size):\n",
    "                subseq = seq[i+j: i+j+kmer_size]\n",
    "                att = ma[int(i/kmer_size)]\n",
    "                if att>= attention_threshold and kmer_count_dict[subseq] > count_threshold and len(subseq) == kmer_size:\n",
    "                    kmer_set.add(subseq)\n",
    "    print(len(kmer_set))\n",
    "    \n"
   ]
  },
  {
   "cell_type": "code",
   "execution_count": 695,
   "metadata": {},
   "outputs": [
    {
     "data": {
      "text/plain": [
       "{'AAAAAAAAAA',\n",
       " 'AAAAAAAAAG',\n",
       " 'AAAAGAGGAA',\n",
       " 'AAACAGGAAG',\n",
       " 'AAAGAGGAAG',\n",
       " 'AAAGGGGAAG',\n",
       " 'AACAGGAAGT',\n",
       " 'AAGAGGAAGC',\n",
       " 'AAGAGGAAGT',\n",
       " 'AAGGAGGAAG',\n",
       " 'ACACACACAC',\n",
       " 'ACAGGAAGTG',\n",
       " 'ACTTCCTCCT',\n",
       " 'ACTTCCTCTT',\n",
       " 'ACTTCCTGTT',\n",
       " 'AGAGAGAGAG',\n",
       " 'AGAGGAAGTG',\n",
       " 'AGCCCCGCCC',\n",
       " 'AGGAAGGAAG',\n",
       " 'AGGAAGTGAG',\n",
       " 'AGGAGGAAGT',\n",
       " 'AGGAGGAGGA',\n",
       " 'AGGCCCCGCC',\n",
       " 'AGGGCGGGGC',\n",
       " 'AGGGGCGGGG',\n",
       " 'AGGGGGCGGG',\n",
       " 'CACACACACA',\n",
       " 'CACTTCCTCC',\n",
       " 'CACTTCCTCT',\n",
       " 'CACTTCCTGT',\n",
       " 'CAGGAAGTGA',\n",
       " 'CCACTTCCTC',\n",
       " 'CCCCACCCCC',\n",
       " 'CCCCCCCCCC',\n",
       " 'CCCCGCCCAC',\n",
       " 'CCCCGCCCCC',\n",
       " 'CCCCGCCCCG',\n",
       " 'CCCCGCCCCT',\n",
       " 'CCCCGCCCTC',\n",
       " 'CCCCGCCTCC',\n",
       " 'CCCCTCCCCC',\n",
       " 'CCCGCCCCCG',\n",
       " 'CCCGCCCCCT',\n",
       " 'CCCGCCCCGC',\n",
       " 'CCCGCCCCTC',\n",
       " 'CCGCCCCGCC',\n",
       " 'CCGCCGCCGC',\n",
       " 'CCTCCCTCCC',\n",
       " 'CCTCCTCCTC',\n",
       " 'CGCCCCGCCC',\n",
       " 'CGCCGCCGCC',\n",
       " 'CGGCCCCGCC',\n",
       " 'CGGCGGCGGC',\n",
       " 'CGGGGCGGGG',\n",
       " 'CGGGGGCGGG',\n",
       " 'CTCACTTCCT',\n",
       " 'CTCCTCCTCC',\n",
       " 'CTCTCTCTCT',\n",
       " 'CTTCCCCTTT',\n",
       " 'CTTCCTCCTC',\n",
       " 'CTTCCTCTTC',\n",
       " 'CTTCCTCTTT',\n",
       " 'CTTCCTGTTT',\n",
       " 'CTTCCTTCCT',\n",
       " 'GAAAAAAAAA',\n",
       " 'GAAAGAGGAA',\n",
       " 'GAAGAGGAAG',\n",
       " 'GAGAGAGAGA',\n",
       " 'GAGGAAGTGA',\n",
       " 'GAGGAAGTGG',\n",
       " 'GAGGAGGAAG',\n",
       " 'GAGGAGGAGG',\n",
       " 'GAGGCGGGGC',\n",
       " 'GAGGGCGGGG',\n",
       " 'GAGGGGCGGG',\n",
       " 'GCCCCGCCCA',\n",
       " 'GCCCCGCCCC',\n",
       " 'GCCCCGCCCT',\n",
       " 'GCCCCGCCTC',\n",
       " 'GCCGCCGCCG',\n",
       " 'GCGCAGGCGC',\n",
       " 'GCGCCTGCGC',\n",
       " 'GCGGCGGCGG',\n",
       " 'GCGGGGCGGG',\n",
       " 'GCTCCGCCCC',\n",
       " 'GCTTCCTCTT',\n",
       " 'GGAAGAGGAA',\n",
       " 'GGAGGAAGTG',\n",
       " 'GGAGGAGGAG',\n",
       " 'GGAGGCGGGG',\n",
       " 'GGAGGGAGGG',\n",
       " 'GGCCCCGCCC',\n",
       " 'GGCGGCGGCG',\n",
       " 'GGCGGGGCCG',\n",
       " 'GGCGGGGCCT',\n",
       " 'GGCGGGGCGG',\n",
       " 'GGCTCCGCCC',\n",
       " 'GGGAGGGAGG',\n",
       " 'GGGCGGAGCC',\n",
       " 'GGGCGGGGCC',\n",
       " 'GGGCGGGGCG',\n",
       " 'GGGCGGGGCT',\n",
       " 'GGGGCGGAGC',\n",
       " 'GGGGCGGGGC',\n",
       " 'GGGGGAGGGG',\n",
       " 'GGGGGCGGGG',\n",
       " 'GGGGGGGGGG',\n",
       " 'GGGGGTGGGG',\n",
       " 'GTGGGCGGGG',\n",
       " 'GTGTGTGTGT',\n",
       " 'TCACTTCCTC',\n",
       " 'TCCTCCTCCT',\n",
       " 'TCTCTCTCTC',\n",
       " 'TCTTCCTCTT',\n",
       " 'TGGGCGGGGC',\n",
       " 'TGTGTGTGTG',\n",
       " 'TTCCTCTTCC',\n",
       " 'TTCCTCTTCT',\n",
       " 'TTCCTCTTTC',\n",
       " 'TTCCTCTTTT',\n",
       " 'TTTTTTTTTT'}"
      ]
     },
     "execution_count": 695,
     "metadata": {},
     "output_type": "execute_result"
    }
   ],
   "source": [
    "kmer_set"
   ]
  },
  {
   "cell_type": "code",
   "execution_count": 675,
   "metadata": {},
   "outputs": [
    {
     "name": "stdout",
     "output_type": "stream",
     "text": [
      "veh\n",
      "658881\n"
     ]
    }
   ],
   "source": [
    "attention_threshold = 0.5\n",
    "kmer_size = 10\n",
    "sequence_size = 200\n",
    "kmer_set = set()\n",
    "for treatment in treatment_attention_dict:\n",
    "    print(treatment)\n",
    "\n",
    "    treatment_attention = treatment_attention_dict[treatment]\n",
    "    max_attention = np.array([x.max(axis=1) for x in treatment_attention])\n",
    "    treatment_fasta = treatment_positive_fasta_dict[treatment]\n",
    "    \n",
    "\n",
    "    break            \n"
   ]
  },
  {
   "cell_type": "code",
   "execution_count": 660,
   "metadata": {},
   "outputs": [
    {
     "data": {
      "text/plain": [
       "658881"
      ]
     },
     "execution_count": 660,
     "metadata": {},
     "output_type": "execute_result"
    }
   ],
   "source": [
    "len(kmer_set)"
   ]
  },
  {
   "cell_type": "markdown",
   "metadata": {},
   "source": [
    "## Verifying Attention Calculation"
   ]
  },
  {
   "cell_type": "code",
   "execution_count": 607,
   "metadata": {
    "collapsed": true
   },
   "outputs": [],
   "source": [
    "dotProductAttention_model.summary()"
   ]
  },
  {
   "cell_type": "code",
   "execution_count": 501,
   "metadata": {
    "collapsed": true
   },
   "outputs": [],
   "source": [
    "def check_dot_product(model, sequence_array, sequence_size, adjacent_bp_pool_size):\n",
    "    check_dot_product = K.function([model.get_layer('input_fwd').input, \n",
    "                                K.learning_phase()\n",
    "                               ], \n",
    "                               [model.get_layer('attention_dropout').output,\n",
    "                                model.get_layer('value_transformer').output,\n",
    "                                model.get_layer('attending_layer').output])\n",
    "    \n",
    "    attention, value, attended_values = check_dot_product(([sequence_array], 0))\n",
    "    \n",
    "    attention = np.reshape(attention, newshape=(attention.shape[1], attention.shape[2]))\n",
    "    value = np.reshape(value, newshape=(value.shape[1], value.shape[2]))\n",
    "    attended_values = np.reshape(attended_values, newshape=(attended_values.shape[1], attended_values.shape[2]))\n",
    "    return attention, value, attended_values"
   ]
  },
  {
   "cell_type": "code",
   "execution_count": 522,
   "metadata": {
    "collapsed": true
   },
   "outputs": [],
   "source": [
    "attention, value, attended_values = check_dot_product(dotProductAttention_model, positive_sequence_arrays[0], 200, 10)"
   ]
  },
  {
   "cell_type": "code",
   "execution_count": 523,
   "metadata": {},
   "outputs": [
    {
     "data": {
      "text/plain": [
       "(20, 20)"
      ]
     },
     "execution_count": 523,
     "metadata": {},
     "output_type": "execute_result"
    }
   ],
   "source": [
    "attention.shape"
   ]
  },
  {
   "cell_type": "code",
   "execution_count": 524,
   "metadata": {},
   "outputs": [
    {
     "data": {
      "text/plain": [
       "(20, 150)"
      ]
     },
     "execution_count": 524,
     "metadata": {},
     "output_type": "execute_result"
    }
   ],
   "source": [
    "value.shape"
   ]
  },
  {
   "cell_type": "code",
   "execution_count": 525,
   "metadata": {},
   "outputs": [
    {
     "data": {
      "text/plain": [
       "(20, 150)"
      ]
     },
     "execution_count": 525,
     "metadata": {},
     "output_type": "execute_result"
    }
   ],
   "source": [
    "attended_values.shape"
   ]
  },
  {
   "cell_type": "code",
   "execution_count": 529,
   "metadata": {},
   "outputs": [
    {
     "data": {
      "text/plain": [
       "array([[ True,  True,  True, ...,  True,  True,  True],\n",
       "       [ True,  True,  True, ...,  True,  True,  True],\n",
       "       [ True,  True,  True, ...,  True,  True,  True],\n",
       "       ...,\n",
       "       [ True,  True,  True, ...,  True,  True,  True],\n",
       "       [ True,  True,  True, ...,  True,  True,  True],\n",
       "       [ True,  True,  True, ...,  True,  True,  True]])"
      ]
     },
     "execution_count": 529,
     "metadata": {},
     "output_type": "execute_result"
    }
   ],
   "source": [
    "np.round(np.dot(attention, value),2) == np.round(attended_values, 2)"
   ]
  },
  {
   "cell_type": "code",
   "execution_count": 530,
   "metadata": {},
   "outputs": [
    {
     "data": {
      "text/plain": [
       "array([[ True, False, False, ...,  True, False,  True],\n",
       "       [ True,  True, False, ..., False, False,  True],\n",
       "       [ True, False, False, ..., False, False,  True],\n",
       "       ...,\n",
       "       [False,  True, False, ..., False, False, False],\n",
       "       [ True, False, False, ..., False, False, False],\n",
       "       [False,  True, False, ..., False, False, False]])"
      ]
     },
     "execution_count": 530,
     "metadata": {},
     "output_type": "execute_result"
    }
   ],
   "source": [
    "np.round(np.dot(attention.T, value),2) == np.round(attended_values, 2)"
   ]
  },
  {
   "cell_type": "code",
   "execution_count": 534,
   "metadata": {},
   "outputs": [
    {
     "data": {
      "text/plain": [
       "array([0.9999999 , 0.99999994, 1.        , 0.9999999 , 0.99999994,\n",
       "       0.9999999 , 1.0000001 , 0.9999998 , 1.0000002 , 0.99999994,\n",
       "       1.0000001 , 0.9999999 , 1.        , 0.99999994, 1.        ,\n",
       "       0.99999994, 0.99999994, 0.9999999 , 1.0000001 , 1.0000001 ],\n",
       "      dtype=float32)"
      ]
     },
     "execution_count": 534,
     "metadata": {},
     "output_type": "execute_result"
    }
   ],
   "source": [
    "attention.sum(axis=0)"
   ]
  },
  {
   "cell_type": "code",
   "execution_count": null,
   "metadata": {
    "collapsed": true
   },
   "outputs": [],
   "source": []
  },
  {
   "cell_type": "code",
   "execution_count": null,
   "metadata": {
    "collapsed": true
   },
   "outputs": [],
   "source": []
  },
  {
   "cell_type": "code",
   "execution_count": null,
   "metadata": {
    "collapsed": true
   },
   "outputs": [],
   "source": []
  },
  {
   "cell_type": "code",
   "execution_count": 46,
   "metadata": {},
   "outputs": [
    {
     "name": "stdout",
     "output_type": "stream",
     "text": [
      "attending axes 1 1 linear\n"
     ]
    }
   ],
   "source": [
    "dotProductAttention_model = get_dotProductAttention_model(200,\n",
    "    mode='classification',\n",
    "    num_motifs=150, \n",
    "    motif_size=10,\n",
    "    adjacent_bp_pool_size=1,\n",
    "    dropout_rate=attention_dropout_rate,\n",
    "    num_classes=2)"
   ]
  },
  {
   "cell_type": "code",
   "execution_count": 47,
   "metadata": {},
   "outputs": [
    {
     "data": {
      "text/plain": [
       "7153"
      ]
     },
     "execution_count": 47,
     "metadata": {},
     "output_type": "execute_result"
    }
   ],
   "source": [
    "dotProductAttention_model.count_params()"
   ]
  },
  {
   "cell_type": "code",
   "execution_count": 48,
   "metadata": {},
   "outputs": [
    {
     "name": "stdout",
     "output_type": "stream",
     "text": [
      "__________________________________________________________________________________________________\n",
      "Layer (type)                    Output Shape         Param #     Connected to                     \n",
      "==================================================================================================\n",
      "input_fwd (InputLayer)          (None, 200, 4)       0                                            \n",
      "__________________________________________________________________________________________________\n",
      "convolution_layer (Conv1D)      (None, 200, 150)     6150        input_fwd[0][0]                  \n",
      "__________________________________________________________________________________________________\n",
      "sequence_pooling_layer (MaxPool (None, 200, 150)     0           convolution_layer[0][0]          \n",
      "__________________________________________________________________________________________________\n",
      "query_transformer (TimeDistribu (1, 200, 150)        150         sequence_pooling_layer[0][0]     \n",
      "__________________________________________________________________________________________________\n",
      "key_transformer (TimeDistribute (1, 200, 150)        150         sequence_pooling_layer[0][0]     \n",
      "__________________________________________________________________________________________________\n",
      "dot_product (Dot)               (1, 200, 200)        0           query_transformer[0][0]          \n",
      "                                                                 key_transformer[0][0]            \n",
      "__________________________________________________________________________________________________\n",
      "attention_softmax_layer (Softma (1, 200, 200)        0           dot_product[0][0]                \n",
      "__________________________________________________________________________________________________\n",
      "attention_dropout (Dropout)     (1, 200, 200)        0           attention_softmax_layer[0][0]    \n",
      "__________________________________________________________________________________________________\n",
      "value_transformer (TimeDistribu (1, 200, 150)        150         sequence_pooling_layer[0][0]     \n",
      "__________________________________________________________________________________________________\n",
      "attending_layer (Dot)           (1, 200, 150)        0           attention_dropout[0][0]          \n",
      "                                                                 value_transformer[0][0]          \n",
      "__________________________________________________________________________________________________\n",
      "dense_layer (TimeDistributed)   (1, 200, 1)          151         attending_layer[0][0]            \n",
      "__________________________________________________________________________________________________\n",
      "flatten (Flatten)               (1, 200)             0           dense_layer[0][0]                \n",
      "__________________________________________________________________________________________________\n",
      "predictions (Dense)             (1, 2)               402         flatten[0][0]                    \n",
      "==================================================================================================\n",
      "Total params: 7,153\n",
      "Trainable params: 7,153\n",
      "Non-trainable params: 0\n",
      "__________________________________________________________________________________________________\n"
     ]
    }
   ],
   "source": [
    "dotProductAttention_model.summary()"
   ]
  },
  {
   "cell_type": "code",
   "execution_count": null,
   "metadata": {
    "collapsed": true
   },
   "outputs": [],
   "source": [
    "attention = get_sequence_attention(dotProductAttention_model,\n",
    "    sequence_arrays,\n",
    "    200,\n",
    "    10)"
   ]
  },
  {
   "cell_type": "code",
   "execution_count": 741,
   "metadata": {},
   "outputs": [
    {
     "data": {
      "text/plain": [
       "array([[ 932.66064,  143.86938,  140.54317, ...,  149.96219,  149.36406,\n",
       "         145.9877 ],\n",
       "       [ 145.71825,  748.07996,  144.5017 , ...,  151.97997,  150.34529,\n",
       "         145.62857],\n",
       "       [ 137.96504,  140.63329,  587.09094, ...,  148.31244,  146.35565,\n",
       "         142.3505 ],\n",
       "       ...,\n",
       "       [ 156.54688,  157.0207 ,  158.11182, ...,  844.11145,  151.25342,\n",
       "         138.96304],\n",
       "       [ 158.80832,  158.16861,  159.03499, ...,  155.32713, 1205.9181 ,\n",
       "         155.37332],\n",
       "       [ 169.20193,  166.59555,  167.8357 , ...,  156.74983,  170.8072 ,\n",
       "        1888.0425 ]], dtype=float32)"
      ]
     },
     "execution_count": 741,
     "metadata": {},
     "output_type": "execute_result"
    }
   ],
   "source": [
    "attention.sum(axis=0)"
   ]
  },
  {
   "cell_type": "code",
   "execution_count": 743,
   "metadata": {},
   "outputs": [
    {
     "data": {
      "text/plain": [
       "(33518, 200, 200)"
      ]
     },
     "execution_count": 743,
     "metadata": {},
     "output_type": "execute_result"
    }
   ],
   "source": [
    "attention.shape"
   ]
  },
  {
   "cell_type": "code",
   "execution_count": 748,
   "metadata": {
    "collapsed": true
   },
   "outputs": [],
   "source": [
    "all_attention_vals = attention.flatten()\n",
    "nonzero_attention = all_attention_vals[all_attention_vals>0]"
   ]
  },
  {
   "cell_type": "code",
   "execution_count": 755,
   "metadata": {},
   "outputs": [
    {
     "data": {
      "text/plain": [
       "222662"
      ]
     },
     "execution_count": 755,
     "metadata": {},
     "output_type": "execute_result"
    }
   ],
   "source": [
    "np.sum(all_attention_vals>0.1)"
   ]
  },
  {
   "cell_type": "code",
   "execution_count": 747,
   "metadata": {},
   "outputs": [
    {
     "data": {
      "text/plain": [
       "<matplotlib.axes._subplots.AxesSubplot at 0x7f953a5ac5c0>"
      ]
     },
     "execution_count": 747,
     "metadata": {},
     "output_type": "execute_result"
    },
    {
     "data": {
      "image/png": "[encoded data removed]",
      "text/plain": [
       "<matplotlib.figure.Figure at 0x7f953a5b38d0>"
      ]
     },
     "metadata": {},
     "output_type": "display_data"
    }
   ],
   "source": [
    "sns.distplot(attention.flatten())"
   ]
  },
  {
   "cell_type": "code",
   "execution_count": 752,
   "metadata": {},
   "outputs": [
    {
     "data": {
      "text/plain": [
       "1340720000"
      ]
     },
     "execution_count": 752,
     "metadata": {},
     "output_type": "execute_result"
    }
   ],
   "source": [
    "len(attention.flatten())"
   ]
  },
  {
   "cell_type": "code",
   "execution_count": 751,
   "metadata": {},
   "outputs": [
    {
     "data": {
      "text/plain": [
       "1340720000"
      ]
     },
     "execution_count": 751,
     "metadata": {},
     "output_type": "execute_result"
    }
   ],
   "source": [
    "len(nonzero_attention)"
   ]
  },
  {
   "cell_type": "code",
   "execution_count": 757,
   "metadata": {},
   "outputs": [
    {
     "data": {
      "text/plain": [
       "<matplotlib.axes._subplots.AxesSubplot at 0x7f952b1bcd68>"
      ]
     },
     "execution_count": 757,
     "metadata": {},
     "output_type": "execute_result"
    },
    {
     "data": {
      "image/png": "[encoded data removed]",
      "text/plain": [
       "<matplotlib.figure.Figure at 0x7f952b190cf8>"
      ]
     },
     "metadata": {},
     "output_type": "display_data"
    }
   ],
   "source": [
    "sns.distplot(all_attention_vals[all_attention_vals>0.05])"
   ]
  },
  {
   "cell_type": "code",
   "execution_count": null,
   "metadata": {
    "collapsed": true
   },
   "outputs": [],
   "source": []
  }
 ],
 "metadata": {
  "kernelspec": {
   "display_name": "Python 3",
   "language": "python",
   "name": "python3"
  },
  "language_info": {
   "codemirror_mode": {
    "name": "ipython",
    "version": 3
   },
   "file_extension": ".py",
   "mimetype": "text/x-python",
   "name": "python",
   "nbconvert_exporter": "python",
   "pygments_lexer": "ipython3",
   "version": "3.6.1"
  }
 },
 "nbformat": 4,
 "nbformat_minor": 1
}
